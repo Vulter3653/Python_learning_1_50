{
  "nbformat": 4,
  "nbformat_minor": 0,
  "metadata": {
    "colab": {
      "name": "Baekjoon_2935_소음.ipynb",
      "provenance": [],
      "authorship_tag": "ABX9TyOqp1SaTh71LZVxHvBY0pX7",
      "include_colab_link": true
    },
    "kernelspec": {
      "name": "python3",
      "display_name": "Python 3"
    },
    "language_info": {
      "name": "python"
    }
  },
  "cells": [
    {
      "cell_type": "markdown",
      "metadata": {
        "id": "view-in-github",
        "colab_type": "text"
      },
      "source": [
        "<a href=\"https://colab.research.google.com/github/Vulter3653/Python_learning_1_50/blob/main/Baekjoon_2935_%EC%86%8C%EC%9D%8C.ipynb\" target=\"_parent\"><img src=\"https://colab.research.google.com/assets/colab-badge.svg\" alt=\"Open In Colab\"/></a>"
      ]
    },
    {
      "cell_type": "code",
      "execution_count": 3,
      "metadata": {
        "colab": {
          "base_uri": "https://localhost:8080/"
        },
        "id": "BaXnm6DWTyj1",
        "outputId": "432eefd6-34a7-4a7d-b99c-cd123688b578"
      },
      "outputs": [
        {
          "output_type": "stream",
          "name": "stdout",
          "text": [
            "1000\n",
            "*\n",
            "100\n",
            "100000\n"
          ]
        }
      ],
      "source": [
        "A = int(input().rstrip())\n",
        "x = input().rstrip()\n",
        "B = int(input().rstrip())\n",
        "\n",
        "if x == '*':\n",
        "  print(A*B)\n",
        "else:\n",
        "  print(A+B)"
      ]
    },
    {
      "cell_type": "code",
      "source": [
        "import sys\n",
        "\n",
        "A = int(sys.stdin.readline().rstrip())\n",
        "x = sys.stdin.readline().rstrip()\n",
        "B = int(sys.stdin.readline().rstrip())\n",
        "\n",
        "if x == '*':\n",
        "  print(A*B)\n",
        "else:\n",
        "  print(A+B)"
      ],
      "metadata": {
        "id": "WMeMQct7Ub-e"
      },
      "execution_count": null,
      "outputs": []
    }
  ]
}