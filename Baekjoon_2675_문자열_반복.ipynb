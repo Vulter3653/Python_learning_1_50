{
  "nbformat": 4,
  "nbformat_minor": 0,
  "metadata": {
    "colab": {
      "name": "Baekjoon_2675_문자열 반복.ipynb",
      "provenance": [],
      "authorship_tag": "ABX9TyPb7qaNuhX0Tc+5B8v0QXw5",
      "include_colab_link": true
    },
    "kernelspec": {
      "name": "python3",
      "display_name": "Python 3"
    },
    "language_info": {
      "name": "python"
    }
  },
  "cells": [
    {
      "cell_type": "markdown",
      "metadata": {
        "id": "view-in-github",
        "colab_type": "text"
      },
      "source": [
        "<a href=\"https://colab.research.google.com/github/Vulter3653/Python_learning_1_50/blob/main/Baekjoon_2675_%EB%AC%B8%EC%9E%90%EC%97%B4_%EB%B0%98%EB%B3%B5.ipynb\" target=\"_parent\"><img src=\"https://colab.research.google.com/assets/colab-badge.svg\" alt=\"Open In Colab\"/></a>"
      ]
    },
    {
      "cell_type": "code",
      "execution_count": 4,
      "metadata": {
        "colab": {
          "base_uri": "https://localhost:8080/"
        },
        "id": "1-oDvV3BBjIF",
        "outputId": "7f513a06-1023-498f-99ea-5ebf23271f54"
      },
      "outputs": [
        {
          "output_type": "stream",
          "name": "stdout",
          "text": [
            "2\n",
            "3 ABC\n",
            "AAABBBCCC\n",
            "5 /HTP\n",
            "/////HHHHHTTTTTPPPPP\n"
          ]
        }
      ],
      "source": [
        "T = int(input())\n",
        "\n",
        "for T in range(T):\n",
        "  R,S = input().rstrip().split()\n",
        "  S_list = list(S)\n",
        "  P = []\n",
        "  for a in range(len(S_list)):\n",
        "    s1 = S_list.pop(0)\n",
        "    P.append(int(R)*s1)\n",
        "  \n",
        "  print(''.join(map(str, P)))"
      ]
    },
    {
      "cell_type": "code",
      "source": [
        "import sys\n",
        "T = int(sys.stdin.readline())\n",
        "\n",
        "for T in range(T):\n",
        "  R,S = sys.stdin.readline().rstrip().split()\n",
        "  S_list = list(S)\n",
        "  P = []\n",
        "  for a in range(len(S_list)):\n",
        "    s1 = S_list.pop(0)\n",
        "    P.append(int(R)*s1)\n",
        "  \n",
        "  print(''.join(map(str, P)))"
      ],
      "metadata": {
        "id": "MUaFhFk4Db1i"
      },
      "execution_count": null,
      "outputs": []
    }
  ]
}