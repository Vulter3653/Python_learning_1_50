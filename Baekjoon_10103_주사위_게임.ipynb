{
  "nbformat": 4,
  "nbformat_minor": 0,
  "metadata": {
    "colab": {
      "name": "Baekjoon_10103_주사위 게임.ipynb",
      "provenance": [],
      "authorship_tag": "ABX9TyNVWWV+079qK36e9j5ExcJ4",
      "include_colab_link": true
    },
    "kernelspec": {
      "name": "python3",
      "display_name": "Python 3"
    },
    "language_info": {
      "name": "python"
    }
  },
  "cells": [
    {
      "cell_type": "markdown",
      "metadata": {
        "id": "view-in-github",
        "colab_type": "text"
      },
      "source": [
        "<a href=\"https://colab.research.google.com/github/Vulter3653/Python_learning_1_50/blob/main/Baekjoon_10103_%EC%A3%BC%EC%82%AC%EC%9C%84_%EA%B2%8C%EC%9E%84.ipynb\" target=\"_parent\"><img src=\"https://colab.research.google.com/assets/colab-badge.svg\" alt=\"Open In Colab\"/></a>"
      ]
    },
    {
      "cell_type": "code",
      "execution_count": 2,
      "metadata": {
        "colab": {
          "base_uri": "https://localhost:8080/"
        },
        "id": "k_WWoMJGYR6P",
        "outputId": "df2e6746-49c9-41ce-9d5e-171543d2cf1b"
      },
      "outputs": [
        {
          "output_type": "stream",
          "name": "stdout",
          "text": [
            "4\n",
            "5 6\n",
            "6 6\n",
            "4 3\n",
            "5 2\n",
            "94\n",
            "91\n"
          ]
        }
      ],
      "source": [
        "T = int(input().rstrip())\n",
        "a = 100\n",
        "b = 100\n",
        "for T in range(T):\n",
        "  x,y = map(int,input().rstrip().split())\n",
        "  if x > y:\n",
        "    b -= x\n",
        "  elif x < y:\n",
        "    a -= y\n",
        "\n",
        "print(a)\n",
        "print(b)"
      ]
    },
    {
      "cell_type": "code",
      "source": [
        "import sys\n",
        "\n",
        "T = int(sys.stdin.readline().rstrip())\n",
        "a = 100\n",
        "b = 100\n",
        "for T in range(T):\n",
        "  x,y = map(int,sys.stdin.readline().rstrip().split())\n",
        "  if x > y:\n",
        "    b -= x\n",
        "  elif x < y:\n",
        "    a -= y\n",
        "\n",
        "print(a)\n",
        "print(b)"
      ],
      "metadata": {
        "id": "M4Fg0JNDaG3G"
      },
      "execution_count": null,
      "outputs": []
    }
  ]
}