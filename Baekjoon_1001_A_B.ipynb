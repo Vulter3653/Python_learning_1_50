{
  "nbformat": 4,
  "nbformat_minor": 0,
  "metadata": {
    "colab": {
      "name": "Baekjoon_1001_A-B.ipynb",
      "provenance": [],
      "authorship_tag": "ABX9TyPHCjwwDh2wKaCIaVq2OWHN",
      "include_colab_link": true
    },
    "kernelspec": {
      "name": "python3",
      "display_name": "Python 3"
    },
    "language_info": {
      "name": "python"
    }
  },
  "cells": [
    {
      "cell_type": "markdown",
      "metadata": {
        "id": "view-in-github",
        "colab_type": "text"
      },
      "source": [
        "<a href=\"https://colab.research.google.com/github/Vulter3653/Python_learning_1_50/blob/main/Baekjoon_1001_A_B.ipynb\" target=\"_parent\"><img src=\"https://colab.research.google.com/assets/colab-badge.svg\" alt=\"Open In Colab\"/></a>"
      ]
    },
    {
      "cell_type": "code",
      "execution_count": 1,
      "metadata": {
        "colab": {
          "base_uri": "https://localhost:8080/"
        },
        "id": "S0h51C9yzzzZ",
        "outputId": "68c52b14-e265-485a-ac67-073b7bfabb8b"
      },
      "outputs": [
        {
          "output_type": "stream",
          "name": "stdout",
          "text": [
            "3 2\n",
            "1\n"
          ]
        }
      ],
      "source": [
        "A,B = map(int,input().split())\n",
        "print(A-B)"
      ]
    },
    {
      "cell_type": "code",
      "source": [
        "import sys\n",
        "\n",
        "A,B = map(int,sys.stdin.readline().split())\n",
        "print(A-B)"
      ],
      "metadata": {
        "id": "BwuK-1FH0eLO"
      },
      "execution_count": null,
      "outputs": []
    }
  ]
}