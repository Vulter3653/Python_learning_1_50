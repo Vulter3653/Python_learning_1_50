{
  "nbformat": 4,
  "nbformat_minor": 0,
  "metadata": {
    "colab": {
      "name": "Baekjoon_2525_오븐 시계.ipynb",
      "provenance": [],
      "authorship_tag": "ABX9TyObYpkNhmLo+4c35FQVlTwG",
      "include_colab_link": true
    },
    "kernelspec": {
      "name": "python3",
      "display_name": "Python 3"
    },
    "language_info": {
      "name": "python"
    }
  },
  "cells": [
    {
      "cell_type": "markdown",
      "metadata": {
        "id": "view-in-github",
        "colab_type": "text"
      },
      "source": [
        "<a href=\"https://colab.research.google.com/github/Vulter3653/Python_learning_1_50/blob/main/Baekjoon_2525_%EC%98%A4%EB%B8%90_%EC%8B%9C%EA%B3%84.ipynb\" target=\"_parent\"><img src=\"https://colab.research.google.com/assets/colab-badge.svg\" alt=\"Open In Colab\"/></a>"
      ]
    },
    {
      "cell_type": "code",
      "execution_count": 14,
      "metadata": {
        "colab": {
          "base_uri": "https://localhost:8080/"
        },
        "id": "Xv3Bwlcjr-l3",
        "outputId": "86ff0a9d-e75d-435d-df04-55a3e8eb115e"
      },
      "outputs": [
        {
          "output_type": "stream",
          "name": "stdout",
          "text": [
            "23 0\n",
            "120\n",
            "1 0\n"
          ]
        }
      ],
      "source": [
        "H,M = map(int,input().rstrip().split())\n",
        "\n",
        "plus_M = int(input().rstrip())\n",
        "\n",
        "if M + plus_M >= 60:\n",
        "  H += (M+plus_M)//60\n",
        "  M = (M+plus_M)%60\n",
        "else:\n",
        "  M = M + plus_M\n",
        "\n",
        "if H >= 24:\n",
        "  H = H%24\n",
        "\n",
        "print(str(H)+\" \"+str(M))"
      ]
    },
    {
      "cell_type": "code",
      "source": [
        "import sys\n",
        "H,M = map(int,sys.stdin.readline().rstrip().split())\n",
        "\n",
        "plus_M = int(sys.stdin.readline().rstrip())\n",
        "\n",
        "if M + plus_M >= 60:\n",
        "  H += (M+plus_M)//60\n",
        "  M = (M+plus_M)%60\n",
        "else:\n",
        "  M = M + plus_M\n",
        "\n",
        "if H >= 24:\n",
        "  H = H%24\n",
        "\n",
        "print(str(H)+\" \"+str(M))"
      ],
      "metadata": {
        "id": "1MxrEBVLuJPg"
      },
      "execution_count": null,
      "outputs": []
    }
  ]
}