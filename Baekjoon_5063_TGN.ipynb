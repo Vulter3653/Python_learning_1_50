{
  "nbformat": 4,
  "nbformat_minor": 0,
  "metadata": {
    "colab": {
      "name": "Baekjoon_5063_TGN.ipynb",
      "provenance": [],
      "authorship_tag": "ABX9TyMTcmSCWwZUGo9jCEA7dg+0",
      "include_colab_link": true
    },
    "kernelspec": {
      "name": "python3",
      "display_name": "Python 3"
    },
    "language_info": {
      "name": "python"
    }
  },
  "cells": [
    {
      "cell_type": "markdown",
      "metadata": {
        "id": "view-in-github",
        "colab_type": "text"
      },
      "source": [
        "<a href=\"https://colab.research.google.com/github/Vulter3653/Python_learning_1_50/blob/main/Baekjoon_5063_TGN.ipynb\" target=\"_parent\"><img src=\"https://colab.research.google.com/assets/colab-badge.svg\" alt=\"Open In Colab\"/></a>"
      ]
    },
    {
      "cell_type": "code",
      "execution_count": 2,
      "metadata": {
        "colab": {
          "base_uri": "https://localhost:8080/"
        },
        "id": "fJqzVy9GLLZR",
        "outputId": "a061535a-6778-45d4-b781-f2fdb8edba74"
      },
      "outputs": [
        {
          "output_type": "stream",
          "name": "stdout",
          "text": [
            "3\n",
            "0 100 70\n",
            "advertise\n",
            "100 130 30\n",
            "does not matter\n",
            "-100 -70 40\n",
            "do not advertise\n"
          ]
        }
      ],
      "source": [
        "N = int(input().rstrip())\n",
        "\n",
        "for N in range(N):\n",
        "  r,e,c = map(int,input().rstrip().split())\n",
        "  if r > (e-c):\n",
        "    print(\"do not advertise\")\n",
        "  elif r == (e-c):\n",
        "    print(\"does not matter\")\n",
        "  else:\n",
        "    print(\"advertise\")"
      ]
    },
    {
      "cell_type": "code",
      "source": [
        "import sys\n",
        "N = int(sys.stdin.readline().rstrip())\n",
        "\n",
        "for N in range(N):\n",
        "  r,e,c = map(int,sys.stdin.readline().rstrip().split())\n",
        "  if r > (e-c):\n",
        "    print(\"do not advertise\")\n",
        "  elif r == (e-c):\n",
        "    print(\"does not matter\")\n",
        "  else:\n",
        "    print(\"advertise\")"
      ],
      "metadata": {
        "id": "Hg7eTOkbL6nm"
      },
      "execution_count": null,
      "outputs": []
    }
  ]
}