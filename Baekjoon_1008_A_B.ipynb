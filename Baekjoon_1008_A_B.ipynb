{
  "nbformat": 4,
  "nbformat_minor": 0,
  "metadata": {
    "colab": {
      "name": "Baekjoon_1008_A/B.ipynb",
      "provenance": [],
      "authorship_tag": "ABX9TyORRb3W4GCeOPC03eyqo0Np",
      "include_colab_link": true
    },
    "kernelspec": {
      "name": "python3",
      "display_name": "Python 3"
    },
    "language_info": {
      "name": "python"
    }
  },
  "cells": [
    {
      "cell_type": "markdown",
      "metadata": {
        "id": "view-in-github",
        "colab_type": "text"
      },
      "source": [
        "<a href=\"https://colab.research.google.com/github/Vulter3653/Python_learning_1_50/blob/main/Baekjoon_1008_A_B.ipynb\" target=\"_parent\"><img src=\"https://colab.research.google.com/assets/colab-badge.svg\" alt=\"Open In Colab\"/></a>"
      ]
    },
    {
      "cell_type": "code",
      "execution_count": 1,
      "metadata": {
        "colab": {
          "base_uri": "https://localhost:8080/"
        },
        "id": "Yo51S4l3-NaA",
        "outputId": "7de0ec4a-210d-4eb6-848a-5aeea8029d4f"
      },
      "outputs": [
        {
          "output_type": "stream",
          "name": "stdout",
          "text": [
            "1 3\n",
            "0.3333333333333333\n"
          ]
        }
      ],
      "source": [
        "A,B = map(int,input().split())\n",
        "print(A/B)"
      ]
    },
    {
      "cell_type": "code",
      "source": [
        "import sys\n",
        "\n",
        "A,B = map(int,sys.stdin.readline().split())\n",
        "print(A/B)"
      ],
      "metadata": {
        "id": "WBTz6lWS-UCk"
      },
      "execution_count": null,
      "outputs": []
    }
  ]
}