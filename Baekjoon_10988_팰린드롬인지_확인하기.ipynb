{
  "nbformat": 4,
  "nbformat_minor": 0,
  "metadata": {
    "colab": {
      "name": "Baekjoon_10988_팰린드롬인지 확인하기.ipynb",
      "provenance": [],
      "authorship_tag": "ABX9TyPJcmXhx0mdwwjqWbpAV8Hk",
      "include_colab_link": true
    },
    "kernelspec": {
      "name": "python3",
      "display_name": "Python 3"
    },
    "language_info": {
      "name": "python"
    }
  },
  "cells": [
    {
      "cell_type": "markdown",
      "metadata": {
        "id": "view-in-github",
        "colab_type": "text"
      },
      "source": [
        "<a href=\"https://colab.research.google.com/github/Vulter3653/Python_learning_1_50/blob/main/Baekjoon_10988_%ED%8C%B0%EB%A6%B0%EB%93%9C%EB%A1%AC%EC%9D%B8%EC%A7%80_%ED%99%95%EC%9D%B8%ED%95%98%EA%B8%B0.ipynb\" target=\"_parent\"><img src=\"https://colab.research.google.com/assets/colab-badge.svg\" alt=\"Open In Colab\"/></a>"
      ]
    },
    {
      "cell_type": "code",
      "execution_count": 1,
      "metadata": {
        "colab": {
          "base_uri": "https://localhost:8080/"
        },
        "id": "LR8il8SdBd58",
        "outputId": "b68af0ef-52bf-445f-d855-a50a150605ea"
      },
      "outputs": [
        {
          "output_type": "stream",
          "name": "stdout",
          "text": [
            "level\n",
            "1\n"
          ]
        }
      ],
      "source": [
        "a = input()\n",
        "if a == a[::-1]:\n",
        "  print(1)\n",
        "else:\n",
        "  print(0)"
      ]
    },
    {
      "cell_type": "code",
      "source": [
        "import sys\n",
        "a = sys.stdin.readline().rstrip()\n",
        "if a == a[::-1]:\n",
        "  print(1)\n",
        "else:\n",
        "  print(0)"
      ],
      "metadata": {
        "id": "FvCn6OquBuiF"
      },
      "execution_count": null,
      "outputs": []
    }
  ]
}