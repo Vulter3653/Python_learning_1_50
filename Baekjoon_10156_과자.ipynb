{
  "nbformat": 4,
  "nbformat_minor": 0,
  "metadata": {
    "colab": {
      "name": "Baekjoon_10156_과자.ipynb",
      "provenance": [],
      "authorship_tag": "ABX9TyOljTHwJyYWDeMo5p/5AL4V",
      "include_colab_link": true
    },
    "kernelspec": {
      "name": "python3",
      "display_name": "Python 3"
    },
    "language_info": {
      "name": "python"
    }
  },
  "cells": [
    {
      "cell_type": "markdown",
      "metadata": {
        "id": "view-in-github",
        "colab_type": "text"
      },
      "source": [
        "<a href=\"https://colab.research.google.com/github/Vulter3653/Python_learning_1_50/blob/main/Baekjoon_10156_%EA%B3%BC%EC%9E%90.ipynb\" target=\"_parent\"><img src=\"https://colab.research.google.com/assets/colab-badge.svg\" alt=\"Open In Colab\"/></a>"
      ]
    },
    {
      "cell_type": "code",
      "execution_count": 2,
      "metadata": {
        "colab": {
          "base_uri": "https://localhost:8080/"
        },
        "id": "ypYMXzMpw8Ie",
        "outputId": "0fd45f0d-46c4-4d00-d7e1-338e9b06ef4f"
      },
      "outputs": [
        {
          "output_type": "stream",
          "name": "stdout",
          "text": [
            "250 2 140\n",
            "360\n"
          ]
        }
      ],
      "source": [
        "K,N,M = map(int,input().rstrip().split())\n",
        "\n",
        "if K*N > M:\n",
        "  print(K*N-M)\n",
        "else:\n",
        "  print(0)"
      ]
    },
    {
      "cell_type": "code",
      "source": [
        "import sys\n",
        "K,N,M = map(int,sys.stdin.readline().rstrip().split())\n",
        "\n",
        "if K*N > M:\n",
        "  print(K*N-M)\n",
        "else:\n",
        "  print(0)"
      ],
      "metadata": {
        "id": "uhzEKrBFyJBH"
      },
      "execution_count": null,
      "outputs": []
    }
  ]
}