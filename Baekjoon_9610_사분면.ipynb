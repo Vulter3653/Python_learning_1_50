{
  "nbformat": 4,
  "nbformat_minor": 0,
  "metadata": {
    "colab": {
      "name": "Baekjoon_9610_사분면.ipynb",
      "provenance": [],
      "authorship_tag": "ABX9TyMY9C2A1lZy8SdQHFx5ij1F",
      "include_colab_link": true
    },
    "kernelspec": {
      "name": "python3",
      "display_name": "Python 3"
    },
    "language_info": {
      "name": "python"
    }
  },
  "cells": [
    {
      "cell_type": "markdown",
      "metadata": {
        "id": "view-in-github",
        "colab_type": "text"
      },
      "source": [
        "<a href=\"https://colab.research.google.com/github/Vulter3653/Python_learning_1_50/blob/main/Baekjoon_9610_%EC%82%AC%EB%B6%84%EB%A9%B4.ipynb\" target=\"_parent\"><img src=\"https://colab.research.google.com/assets/colab-badge.svg\" alt=\"Open In Colab\"/></a>"
      ]
    },
    {
      "cell_type": "code",
      "execution_count": 4,
      "metadata": {
        "colab": {
          "base_uri": "https://localhost:8080/"
        },
        "id": "YuJLpZZKRjZC",
        "outputId": "5f63b049-dad0-4581-ddec-cb68aa0be4e8"
      },
      "outputs": [
        {
          "output_type": "stream",
          "name": "stdout",
          "text": [
            "5\n",
            "0 0\n",
            "0 1\n",
            "1 1\n",
            "3 -3\n",
            "2 2\n",
            "Q1: 2\n",
            "Q2: 0\n",
            "Q3: 0\n",
            "Q4: 1\n",
            "AXIS: 2\n"
          ]
        }
      ],
      "source": [
        "n = int(input().rstrip())\n",
        "q1 = 0\n",
        "q2 = 0\n",
        "q3 = 0\n",
        "q4 = 0\n",
        "axis = 0\n",
        "for n in range(n):\n",
        "  x,y = map(int,input().rstrip().split())\n",
        "  if x > 0 and y > 0 :\n",
        "    q1 += 1\n",
        "  elif x < 0 and y > 0 :\n",
        "    q2 += 1\n",
        "  elif x < 0 and y < 0 :\n",
        "    q3 += 1\n",
        "  elif x > 0 and y < 0 :\n",
        "    q4 += 1\n",
        "  else:\n",
        "    axis +=1\n",
        "\n",
        "print('Q1: '+str(q1))\n",
        "print('Q2: '+str(q2))\n",
        "print('Q3: '+str(q3))\n",
        "print('Q4: '+str(q4))\n",
        "print('AXIS: '+str(axis))"
      ]
    },
    {
      "cell_type": "code",
      "source": [
        "import sys\n",
        "\n",
        "n = int(sys.stdin.readline().rstrip())\n",
        "q1 = 0\n",
        "q2 = 0\n",
        "q3 = 0\n",
        "q4 = 0\n",
        "axis = 0\n",
        "for n in range(n):\n",
        "  x,y = map(int,sys.stdin.readline().rstrip().split())\n",
        "  if x > 0 and y > 0 :\n",
        "    q1 += 1\n",
        "  elif x < 0 and y > 0 :\n",
        "    q2 += 1\n",
        "  elif x < 0 and y < 0 :\n",
        "    q3 += 1\n",
        "  elif x > 0 and y < 0 :\n",
        "    q4 += 1\n",
        "  else:\n",
        "    axis +=1\n",
        "\n",
        "print('Q1: '+str(q1))\n",
        "print('Q2: '+str(q2))\n",
        "print('Q3: '+str(q3))\n",
        "print('Q4: '+str(q4))\n",
        "print('AXIS: '+str(axis))"
      ],
      "metadata": {
        "id": "3zq4qOCFUqjW"
      },
      "execution_count": null,
      "outputs": []
    }
  ]
}