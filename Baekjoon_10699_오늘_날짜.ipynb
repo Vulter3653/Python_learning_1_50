{
  "nbformat": 4,
  "nbformat_minor": 0,
  "metadata": {
    "colab": {
      "name": "Baekjoon_10699_오늘 날짜.ipynb",
      "provenance": [],
      "authorship_tag": "ABX9TyPzpQNdU6DtrlctoigEux4F",
      "include_colab_link": true
    },
    "kernelspec": {
      "name": "python3",
      "display_name": "Python 3"
    },
    "language_info": {
      "name": "python"
    }
  },
  "cells": [
    {
      "cell_type": "markdown",
      "metadata": {
        "id": "view-in-github",
        "colab_type": "text"
      },
      "source": [
        "<a href=\"https://colab.research.google.com/github/Vulter3653/Python_learning_1_50/blob/main/Baekjoon_10699_%EC%98%A4%EB%8A%98_%EB%82%A0%EC%A7%9C.ipynb\" target=\"_parent\"><img src=\"https://colab.research.google.com/assets/colab-badge.svg\" alt=\"Open In Colab\"/></a>"
      ]
    },
    {
      "cell_type": "code",
      "execution_count": 16,
      "metadata": {
        "colab": {
          "base_uri": "https://localhost:8080/"
        },
        "id": "J3RgxpnMsB7F",
        "outputId": "de168b7a-e346-4981-cf5d-5f38720858f2"
      },
      "outputs": [
        {
          "output_type": "stream",
          "name": "stdout",
          "text": [
            "2022-05-14\n"
          ]
        }
      ],
      "source": [
        "import datetime as dt\n",
        "\n",
        "a = dt.datetime.now()\n",
        "print(a.strftime(\"%Y-%m-%d\"))"
      ]
    }
  ]
}