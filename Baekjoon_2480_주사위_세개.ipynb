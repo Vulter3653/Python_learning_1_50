{
  "nbformat": 4,
  "nbformat_minor": 0,
  "metadata": {
    "colab": {
      "name": "Baekjoon_2480_주사위 세개.ipynb",
      "provenance": [],
      "authorship_tag": "ABX9TyNxXScUYlfRMoY40iFKAkVU",
      "include_colab_link": true
    },
    "kernelspec": {
      "name": "python3",
      "display_name": "Python 3"
    },
    "language_info": {
      "name": "python"
    }
  },
  "cells": [
    {
      "cell_type": "markdown",
      "metadata": {
        "id": "view-in-github",
        "colab_type": "text"
      },
      "source": [
        "<a href=\"https://colab.research.google.com/github/Vulter3653/Python_learning_1_50/blob/main/Baekjoon_2480_%EC%A3%BC%EC%82%AC%EC%9C%84_%EC%84%B8%EA%B0%9C.ipynb\" target=\"_parent\"><img src=\"https://colab.research.google.com/assets/colab-badge.svg\" alt=\"Open In Colab\"/></a>"
      ]
    },
    {
      "cell_type": "code",
      "execution_count": 7,
      "metadata": {
        "colab": {
          "base_uri": "https://localhost:8080/"
        },
        "id": "fHmilKZytMkk",
        "outputId": "0019d97f-3a9d-45b4-fff4-7e9ccf4f3c72"
      },
      "outputs": [
        {
          "output_type": "stream",
          "name": "stdout",
          "text": [
            "2 1 2\n",
            "1200\n"
          ]
        }
      ],
      "source": [
        "a,b,c = map(int,input().rstrip().split())\n",
        "k = set([a,b,c])\n",
        "\n",
        "if len(k) == 1:\n",
        "  print(10000+a*1000)\n",
        "elif len(k) == 2:\n",
        "  if a == b:\n",
        "    print(1000+a*100)\n",
        "  elif a == c:\n",
        "    print(1000+a*100)\n",
        "  else:\n",
        "    print(1000+b*100)\n",
        "else:\n",
        "  print(max(k)*100)"
      ]
    },
    {
      "cell_type": "code",
      "source": [
        "a,b,c = map(int,input().rstrip().split())\n",
        "k = set([a,b,c])\n",
        "\n",
        "if len(k) == 1:\n",
        "  print(10000+a*1000)\n",
        "elif len(k) == 2:\n",
        "  if b == c:\n",
        "    print(1000+b*100)\n",
        "  else:\n",
        "    print(1000+a*100)\n",
        "else:\n",
        "  print(max(k)*100)"
      ],
      "metadata": {
        "colab": {
          "base_uri": "https://localhost:8080/"
        },
        "id": "PS0cUJUnu8db",
        "outputId": "d498f35c-818a-498d-cb3f-bb175f3f88a3"
      },
      "execution_count": 8,
      "outputs": [
        {
          "output_type": "stream",
          "name": "stdout",
          "text": [
            "6 2 5\n",
            "600\n"
          ]
        }
      ]
    },
    {
      "cell_type": "code",
      "source": [
        "import sys\n",
        "a,b,c = map(int,sys.stdin.readline().rstrip().split())\n",
        "k = set([a,b,c])\n",
        "\n",
        "if len(k) == 1:\n",
        "  print(10000+a*1000)\n",
        "elif len(k) == 2:\n",
        "  if b == c:\n",
        "    print(1000+b*100)\n",
        "  else:\n",
        "    print(1000+a*100)\n",
        "else:\n",
        "  print(max(k)*100)"
      ],
      "metadata": {
        "id": "uLKrQeHivOXT"
      },
      "execution_count": null,
      "outputs": []
    }
  ]
}