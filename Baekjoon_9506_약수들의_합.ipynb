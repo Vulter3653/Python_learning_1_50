{
  "nbformat": 4,
  "nbformat_minor": 0,
  "metadata": {
    "colab": {
      "name": "Baekjoon_9506_약수들의 합.ipynb",
      "provenance": [],
      "authorship_tag": "ABX9TyMLdyZacLXiIjH5/8RxyT45",
      "include_colab_link": true
    },
    "kernelspec": {
      "name": "python3",
      "display_name": "Python 3"
    },
    "language_info": {
      "name": "python"
    }
  },
  "cells": [
    {
      "cell_type": "markdown",
      "metadata": {
        "id": "view-in-github",
        "colab_type": "text"
      },
      "source": [
        "<a href=\"https://colab.research.google.com/github/Vulter3653/Python_learning_1_50/blob/main/Baekjoon_9506_%EC%95%BD%EC%88%98%EB%93%A4%EC%9D%98_%ED%95%A9.ipynb\" target=\"_parent\"><img src=\"https://colab.research.google.com/assets/colab-badge.svg\" alt=\"Open In Colab\"/></a>"
      ]
    },
    {
      "cell_type": "code",
      "execution_count": 1,
      "metadata": {
        "colab": {
          "base_uri": "https://localhost:8080/"
        },
        "id": "xHYGyoj1xYEX",
        "outputId": "7810c04a-5ade-478b-c88a-aa6e10ffb6e3"
      },
      "outputs": [
        {
          "name": "stdout",
          "output_type": "stream",
          "text": [
            "6\n",
            "6 = 1 + 2 + 3\n",
            "12\n",
            "12 is NOT perfect.\n",
            "28\n",
            "28 = 1 + 2 + 4 + 7 + 14\n",
            "33550336\n",
            "33550336 = 1 + 2 + 4 + 8 + 16 + 32 + 64 + 128 + 256 + 512 + 1024 + 2048 + 4096 + 8191 + 16382 + 32764 + 65528 + 131056 + 262112 + 524224 + 1048448 + 2096896 + 4193792 + 8387584 + 16775168\n",
            "8128\n",
            "8128 = 1 + 2 + 4 + 8 + 16 + 32 + 64 + 127 + 254 + 508 + 1016 + 2032 + 4064\n",
            "-1\n"
          ]
        }
      ],
      "source": [
        "from collections import deque\n",
        "\n",
        "while True:\n",
        "  a = int(input().rstrip())\n",
        "  if a == -1:\n",
        "    break\n",
        "  else:\n",
        "    b=[]\n",
        "    for x in range(1,a):\n",
        "      if a%x ==0:\n",
        "        b.append(x)\n",
        "\n",
        "    b = deque(b)\n",
        "    c = str(a)+\" = \"\n",
        "\n",
        "    if sum(b)==a:\n",
        "      c = c+str(b.popleft())\n",
        "      for x in range(len(b)):\n",
        "        c +=\" + \"+str(b.popleft())\n",
        "      print(c) \n",
        "    else:\n",
        "      print(str(a)+\" is NOT perfect.\")"
      ]
    },
    {
      "cell_type": "code",
      "source": [
        "from collections import deque\n",
        "import sys\n",
        "\n",
        "while True:\n",
        "  a = int(sys.stdin.readline().rstrip())\n",
        "  if a == -1:\n",
        "    break\n",
        "  else:\n",
        "    b=[]\n",
        "    for x in range(1,a):\n",
        "      if a%x ==0:\n",
        "        b.append(x)\n",
        "\n",
        "    b = deque(b)\n",
        "    c = str(a)+\" = \"\n",
        "\n",
        "    if sum(b)==a:\n",
        "      c = c+str(b.popleft())\n",
        "      for x in range(len(b)):\n",
        "        c +=\" + \"+str(b.popleft())\n",
        "      print(c) \n",
        "    else:\n",
        "      print(str(a)+\" is NOT perfect.\")"
      ],
      "metadata": {
        "id": "do-Tes1HxgYc"
      },
      "execution_count": null,
      "outputs": []
    }
  ]
}