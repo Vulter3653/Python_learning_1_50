{
  "nbformat": 4,
  "nbformat_minor": 0,
  "metadata": {
    "colab": {
      "name": "Baekjoon_10102_개표.ipynb",
      "provenance": [],
      "authorship_tag": "ABX9TyOkNEjBPqWAij/23lbFFcgJ",
      "include_colab_link": true
    },
    "kernelspec": {
      "name": "python3",
      "display_name": "Python 3"
    },
    "language_info": {
      "name": "python"
    }
  },
  "cells": [
    {
      "cell_type": "markdown",
      "metadata": {
        "id": "view-in-github",
        "colab_type": "text"
      },
      "source": [
        "<a href=\"https://colab.research.google.com/github/Vulter3653/Python_learning_1_50/blob/main/Baekjoon_10102_%EA%B0%9C%ED%91%9C.ipynb\" target=\"_parent\"><img src=\"https://colab.research.google.com/assets/colab-badge.svg\" alt=\"Open In Colab\"/></a>"
      ]
    },
    {
      "cell_type": "code",
      "execution_count": 3,
      "metadata": {
        "colab": {
          "base_uri": "https://localhost:8080/"
        },
        "id": "9LumlewCFZMy",
        "outputId": "ace54110-2b48-4b45-a7a1-580d3df1d362"
      },
      "outputs": [
        {
          "output_type": "stream",
          "name": "stdout",
          "text": [
            "6\n",
            "ABBABB\n",
            "B\n"
          ]
        }
      ],
      "source": [
        "b = int(input())\n",
        "a = list(input().rstrip())\n",
        "\n",
        "if a.count('A') > a.count('B'):\n",
        "  print('A')\n",
        "elif a.count('A') < a.count('B'):\n",
        "  print('B')\n",
        "elif a.count('A') == a.count('B'):\n",
        "  print('Tie')"
      ]
    },
    {
      "cell_type": "code",
      "source": [
        "import sys\n",
        "b = int(sys.stdin.readline())\n",
        "a = list(sys.stdin.readline().rstrip())\n",
        "\n",
        "if a.count('A') > a.count('B'):\n",
        "  print('A')\n",
        "elif a.count('A') < a.count('B'):\n",
        "  print('B')\n",
        "elif a.count('A') == a.count('B'):\n",
        "  print('Tie')"
      ],
      "metadata": {
        "id": "EUcVSbJLGgOt"
      },
      "execution_count": null,
      "outputs": []
    }
  ]
}