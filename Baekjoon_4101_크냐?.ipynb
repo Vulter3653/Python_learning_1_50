{
  "nbformat": 4,
  "nbformat_minor": 0,
  "metadata": {
    "colab": {
      "name": "Baekjoon_4101_크냐?.ipynb",
      "provenance": [],
      "authorship_tag": "ABX9TyNM52V0iIYaCyhQVkgf79o0",
      "include_colab_link": true
    },
    "kernelspec": {
      "name": "python3",
      "display_name": "Python 3"
    },
    "language_info": {
      "name": "python"
    }
  },
  "cells": [
    {
      "cell_type": "markdown",
      "metadata": {
        "id": "view-in-github",
        "colab_type": "text"
      },
      "source": [
        "<a href=\"https://colab.research.google.com/github/Vulter3653/Python_learning_1_50/blob/main/Baekjoon_4101_%ED%81%AC%EB%83%90%3F.ipynb\" target=\"_parent\"><img src=\"https://colab.research.google.com/assets/colab-badge.svg\" alt=\"Open In Colab\"/></a>"
      ]
    },
    {
      "cell_type": "code",
      "execution_count": 2,
      "metadata": {
        "colab": {
          "base_uri": "https://localhost:8080/"
        },
        "id": "kRoZ8HRzvxmz",
        "outputId": "dc491e56-5ec3-46f8-85d4-7ab0d58d3fc6"
      },
      "outputs": [
        {
          "name": "stdout",
          "output_type": "stream",
          "text": [
            "1 19\n",
            "No\n",
            "4 4\n",
            "No\n",
            "23 14\n",
            "Yes\n",
            "0 0\n"
          ]
        }
      ],
      "source": [
        "while True:\n",
        "  a,b = map(int,input().rstrip().split())\n",
        "  if a == 0 and b == 0:\n",
        "    break\n",
        "  elif a > b:\n",
        "    print('Yes')\n",
        "  else:\n",
        "    print('No')"
      ]
    },
    {
      "cell_type": "code",
      "source": [
        "import sys\n",
        "\n",
        "while True:\n",
        "  a,b = map(int,sys.stdin.readline().rstrip().split())\n",
        "  if a == 0 and b == 0:\n",
        "    break\n",
        "  elif a > b:\n",
        "    print('Yes')\n",
        "  else:\n",
        "    print('No')"
      ],
      "metadata": {
        "id": "YHn6RkUqwNC2"
      },
      "execution_count": null,
      "outputs": []
    }
  ]
}