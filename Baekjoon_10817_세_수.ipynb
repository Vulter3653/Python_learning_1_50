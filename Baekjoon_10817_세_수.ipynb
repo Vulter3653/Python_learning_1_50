{
  "nbformat": 4,
  "nbformat_minor": 0,
  "metadata": {
    "colab": {
      "name": "Baekjoon_10817_세 수.ipynb",
      "provenance": [],
      "authorship_tag": "ABX9TyMqLEbNURqqgZY/ld+XJK23",
      "include_colab_link": true
    },
    "kernelspec": {
      "name": "python3",
      "display_name": "Python 3"
    },
    "language_info": {
      "name": "python"
    }
  },
  "cells": [
    {
      "cell_type": "markdown",
      "metadata": {
        "id": "view-in-github",
        "colab_type": "text"
      },
      "source": [
        "<a href=\"https://colab.research.google.com/github/Vulter3653/Python_learning_1_50/blob/main/Baekjoon_10817_%EC%84%B8_%EC%88%98.ipynb\" target=\"_parent\"><img src=\"https://colab.research.google.com/assets/colab-badge.svg\" alt=\"Open In Colab\"/></a>"
      ]
    },
    {
      "cell_type": "code",
      "execution_count": 5,
      "metadata": {
        "colab": {
          "base_uri": "https://localhost:8080/"
        },
        "id": "mMU3NGacGEwR",
        "outputId": "72032ed1-3ac0-4ba1-84d1-b54e7a28ea44"
      },
      "outputs": [
        {
          "output_type": "stream",
          "name": "stdout",
          "text": [
            "20 10 10\n",
            "10\n"
          ]
        }
      ],
      "source": [
        "x = list(map(int,input().rstrip().split()))\n",
        "\n",
        "x.remove(max(x))\n",
        "\n",
        "print(max(x))"
      ]
    },
    {
      "cell_type": "code",
      "source": [
        "import sys\n",
        "\n",
        "x = list(map(int,sys.stdin.readline().rstrip().split()))\n",
        "\n",
        "x.remove(max(x))\n",
        "\n",
        "print(max(x))"
      ],
      "metadata": {
        "id": "WzV_P0UdGjtx"
      },
      "execution_count": null,
      "outputs": []
    }
  ]
}