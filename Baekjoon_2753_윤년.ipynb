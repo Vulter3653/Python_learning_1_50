{
  "nbformat": 4,
  "nbformat_minor": 0,
  "metadata": {
    "colab": {
      "name": "Baekjoon_2753_윤년.ipynb",
      "provenance": [],
      "authorship_tag": "ABX9TyMmTtfPokU7Kr594VGQe8ki",
      "include_colab_link": true
    },
    "kernelspec": {
      "name": "python3",
      "display_name": "Python 3"
    },
    "language_info": {
      "name": "python"
    }
  },
  "cells": [
    {
      "cell_type": "markdown",
      "metadata": {
        "id": "view-in-github",
        "colab_type": "text"
      },
      "source": [
        "<a href=\"https://colab.research.google.com/github/Vulter3653/Python_learning_1_50/blob/main/Baekjoon_2753_%EC%9C%A4%EB%85%84.ipynb\" target=\"_parent\"><img src=\"https://colab.research.google.com/assets/colab-badge.svg\" alt=\"Open In Colab\"/></a>"
      ]
    },
    {
      "cell_type": "code",
      "execution_count": 5,
      "metadata": {
        "colab": {
          "base_uri": "https://localhost:8080/"
        },
        "id": "rsHiPsX3WjU2",
        "outputId": "7d9c6d92-dc0a-405d-9cec-db81885aed82"
      },
      "outputs": [
        {
          "output_type": "stream",
          "name": "stdout",
          "text": [
            "1999\n",
            "0\n"
          ]
        }
      ],
      "source": [
        "y = int(input().rstrip())\n",
        "\n",
        "if y%400 == 0:\n",
        "  print(1)\n",
        "elif y%4 == 0 and y%100 != 0:\n",
        "  print(1)\n",
        "else:\n",
        "  print(0)"
      ]
    },
    {
      "cell_type": "code",
      "source": [
        "import sys\n",
        "\n",
        "y = int(sys.stdin.readline().rstrip())\n",
        "\n",
        "if y%400 == 0:\n",
        "  print(1)\n",
        "elif y%4 == 0 and y%100 != 0:\n",
        "  print(1)\n",
        "else:\n",
        "  print(0)"
      ],
      "metadata": {
        "id": "cA-eFN3EXXr_"
      },
      "execution_count": null,
      "outputs": []
    }
  ]
}