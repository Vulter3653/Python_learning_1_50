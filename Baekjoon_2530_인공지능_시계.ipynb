{
  "nbformat": 4,
  "nbformat_minor": 0,
  "metadata": {
    "colab": {
      "name": "Baekjoon_2530_인공지능 시계.ipynb",
      "provenance": [],
      "authorship_tag": "ABX9TyPA3xOdIXbA1NQANM1/LLva",
      "include_colab_link": true
    },
    "kernelspec": {
      "name": "python3",
      "display_name": "Python 3"
    },
    "language_info": {
      "name": "python"
    }
  },
  "cells": [
    {
      "cell_type": "markdown",
      "metadata": {
        "id": "view-in-github",
        "colab_type": "text"
      },
      "source": [
        "<a href=\"https://colab.research.google.com/github/Vulter3653/Python_learning_1_50/blob/main/Baekjoon_2530_%EC%9D%B8%EA%B3%B5%EC%A7%80%EB%8A%A5_%EC%8B%9C%EA%B3%84.ipynb\" target=\"_parent\"><img src=\"https://colab.research.google.com/assets/colab-badge.svg\" alt=\"Open In Colab\"/></a>"
      ]
    },
    {
      "cell_type": "code",
      "execution_count": 6,
      "metadata": {
        "colab": {
          "base_uri": "https://localhost:8080/"
        },
        "id": "XkI-hbHAu0eC",
        "outputId": "1fbb0793-29fa-4960-e84d-d71c785e4513"
      },
      "outputs": [
        {
          "output_type": "stream",
          "name": "stdout",
          "text": [
            "0 0 0\n",
            "3600\n",
            "1 0 0\n"
          ]
        }
      ],
      "source": [
        "H,M,S = map(int,input().rstrip().split())\n",
        "\n",
        "plus_S = int(input().rstrip())\n",
        "\n",
        "if S + plus_S >=60:\n",
        "  M += (S + plus_S)//60\n",
        "  S = (S + plus_S)%60\n",
        "else:\n",
        "  S = S + plus_S\n",
        "\n",
        "if M >=60:\n",
        "  H += M//60\n",
        "  M = M%60\n",
        "\n",
        "if H >= 24:\n",
        "  H = H%24\n",
        "\n",
        "print(str(H)+\" \"+str(M)+\" \"+str(S))"
      ]
    },
    {
      "cell_type": "code",
      "source": [
        "import sys\n",
        "H,M,S = map(int,sys.stdin.readline().rstrip().split())\n",
        "\n",
        "plus_S = int(sys.stdin.readline().rstrip())\n",
        "\n",
        "if S + plus_S >=60:\n",
        "  M += (S + plus_S)//60\n",
        "  S = (S + plus_S)%60\n",
        "else:\n",
        "  S = S + plus_S\n",
        "\n",
        "if M >=60:\n",
        "  H += M//60\n",
        "  M = M%60\n",
        "\n",
        "if H >= 24:\n",
        "  H = H%24\n",
        "\n",
        "print(str(H)+\" \"+str(M)+\" \"+str(S))"
      ],
      "metadata": {
        "id": "XtfTAxkCv6Qs"
      },
      "execution_count": null,
      "outputs": []
    }
  ]
}