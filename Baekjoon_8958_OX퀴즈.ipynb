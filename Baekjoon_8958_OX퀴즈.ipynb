{
  "nbformat": 4,
  "nbformat_minor": 0,
  "metadata": {
    "colab": {
      "name": "Baekjoon_8958_OX퀴즈.ipynb",
      "provenance": [],
      "authorship_tag": "ABX9TyObuOICTeEqiaj6iHir/jnG",
      "include_colab_link": true
    },
    "kernelspec": {
      "name": "python3",
      "display_name": "Python 3"
    },
    "language_info": {
      "name": "python"
    }
  },
  "cells": [
    {
      "cell_type": "markdown",
      "metadata": {
        "id": "view-in-github",
        "colab_type": "text"
      },
      "source": [
        "<a href=\"https://colab.research.google.com/github/Vulter3653/Python_learning_1_50/blob/main/Baekjoon_8958_OX%ED%80%B4%EC%A6%88.ipynb\" target=\"_parent\"><img src=\"https://colab.research.google.com/assets/colab-badge.svg\" alt=\"Open In Colab\"/></a>"
      ]
    },
    {
      "cell_type": "code",
      "execution_count": 3,
      "metadata": {
        "colab": {
          "base_uri": "https://localhost:8080/"
        },
        "id": "6kW2fmQR4TSB",
        "outputId": "2bfb6968-f004-4528-f147-9c53a1cf2c52"
      },
      "outputs": [
        {
          "output_type": "stream",
          "name": "stdout",
          "text": [
            "5\n",
            "OOXXOXXOOO\n",
            "10\n",
            "OOXXOOXXOO\n",
            "9\n",
            "OXOXOXOXOXOXOX\n",
            "7\n",
            "OOOOOOOOOO\n",
            "55\n",
            "OOOOXOOOOXOOOOX\n",
            "30\n"
          ]
        }
      ],
      "source": [
        "from collections import deque\n",
        "\n",
        "T = int(input().rstrip())\n",
        "\n",
        "for T in range(T):\n",
        "  score = deque(list(input().rstrip()))\n",
        "  a = 1\n",
        "  cnt = 0\n",
        "\n",
        "  for x in range(len(score)):\n",
        "    y = score.popleft()\n",
        "    if y == 'O':\n",
        "      cnt += a\n",
        "      a += 1\n",
        "    else:\n",
        "      a = 1\n",
        "\n",
        "  print(cnt)"
      ]
    },
    {
      "cell_type": "code",
      "source": [
        "import sys\n",
        "from collections import deque\n",
        "\n",
        "T = int(sys.stdin.readline().rstrip())\n",
        "\n",
        "for T in range(T):\n",
        "  score = deque(list(sys.stdin.readline().rstrip()))\n",
        "  a = 1\n",
        "  cnt = 0\n",
        "\n",
        "  for x in range(len(score)):\n",
        "    y = score.popleft()\n",
        "    if y == 'O':\n",
        "      cnt += a\n",
        "      a += 1\n",
        "    else:\n",
        "      a = 1\n",
        "\n",
        "  print(cnt)"
      ],
      "metadata": {
        "id": "ua17NKkX5icD"
      },
      "execution_count": null,
      "outputs": []
    }
  ]
}