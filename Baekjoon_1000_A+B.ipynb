{
  "nbformat": 4,
  "nbformat_minor": 0,
  "metadata": {
    "colab": {
      "name": "Baekjoon_1000_A+B.ipynb",
      "provenance": [],
      "authorship_tag": "ABX9TyOmG2qCt4G5QQk6MUUgNmVj",
      "include_colab_link": true
    },
    "kernelspec": {
      "name": "python3",
      "display_name": "Python 3"
    },
    "language_info": {
      "name": "python"
    }
  },
  "cells": [
    {
      "cell_type": "markdown",
      "metadata": {
        "id": "view-in-github",
        "colab_type": "text"
      },
      "source": [
        "<a href=\"https://colab.research.google.com/github/Vulter3653/Python_learning_1_50/blob/main/Baekjoon_1000_A%2BB.ipynb\" target=\"_parent\"><img src=\"https://colab.research.google.com/assets/colab-badge.svg\" alt=\"Open In Colab\"/></a>"
      ]
    },
    {
      "cell_type": "code",
      "execution_count": null,
      "metadata": {
        "id": "AqxaFWTTgI5U"
      },
      "outputs": [],
      "source": [
        "A,B = map(int,input().split())\n",
        "\n",
        "print(A+B)"
      ]
    },
    {
      "cell_type": "code",
      "source": [
        "import sys\n",
        "A,B = map(int,sys.stdin.readline().split())\n",
        "\n",
        "print(A+B)"
      ],
      "metadata": {
        "id": "ylbgM5kEgSnK"
      },
      "execution_count": null,
      "outputs": []
    }
  ]
}