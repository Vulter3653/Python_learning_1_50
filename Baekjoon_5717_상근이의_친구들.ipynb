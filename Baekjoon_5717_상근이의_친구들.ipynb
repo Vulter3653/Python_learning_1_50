{
  "nbformat": 4,
  "nbformat_minor": 0,
  "metadata": {
    "colab": {
      "name": "Baekjoon_5717_상근이의 친구들.ipynb",
      "provenance": [],
      "authorship_tag": "ABX9TyPB84JeCarTpQ0k4pQ8UNWz",
      "include_colab_link": true
    },
    "kernelspec": {
      "name": "python3",
      "display_name": "Python 3"
    },
    "language_info": {
      "name": "python"
    }
  },
  "cells": [
    {
      "cell_type": "markdown",
      "metadata": {
        "id": "view-in-github",
        "colab_type": "text"
      },
      "source": [
        "<a href=\"https://colab.research.google.com/github/Vulter3653/Python_learning_1_50/blob/main/Baekjoon_5717_%EC%83%81%EA%B7%BC%EC%9D%B4%EC%9D%98_%EC%B9%9C%EA%B5%AC%EB%93%A4.ipynb\" target=\"_parent\"><img src=\"https://colab.research.google.com/assets/colab-badge.svg\" alt=\"Open In Colab\"/></a>"
      ]
    },
    {
      "cell_type": "code",
      "execution_count": 1,
      "metadata": {
        "colab": {
          "base_uri": "https://localhost:8080/"
        },
        "id": "vq2MsK-uOiCY",
        "outputId": "0c2081f4-ae4f-4348-97b2-e97e312fa92e"
      },
      "outputs": [
        {
          "name": "stdout",
          "output_type": "stream",
          "text": [
            "2 2\n",
            "4\n",
            "2 3\n",
            "5\n",
            "5 5\n",
            "10\n",
            "1 1\n",
            "2\n",
            "0 0\n"
          ]
        }
      ],
      "source": [
        "while True:\n",
        "  M,F = map(int,input().rstrip().split())\n",
        "  if M == 0 and F == 0:\n",
        "    break\n",
        "  else:\n",
        "    print(M+F)"
      ]
    },
    {
      "cell_type": "code",
      "source": [
        "import sys\n",
        "\n",
        "while True:\n",
        "  M,F = map(int,sys.stdin.readline().rstrip().split())\n",
        "  if M == 0 and F == 0:\n",
        "    break\n",
        "  else:\n",
        "    print(M+F)"
      ],
      "metadata": {
        "id": "0jNnGaErPNqb"
      },
      "execution_count": null,
      "outputs": []
    }
  ]
}