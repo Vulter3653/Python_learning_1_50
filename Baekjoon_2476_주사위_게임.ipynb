{
  "nbformat": 4,
  "nbformat_minor": 0,
  "metadata": {
    "colab": {
      "name": "Baekjoon_2476_주사위 게임.ipynb",
      "provenance": [],
      "authorship_tag": "ABX9TyOB66W+MU9xcXWh3fnHlwwU",
      "include_colab_link": true
    },
    "kernelspec": {
      "name": "python3",
      "display_name": "Python 3"
    },
    "language_info": {
      "name": "python"
    }
  },
  "cells": [
    {
      "cell_type": "markdown",
      "metadata": {
        "id": "view-in-github",
        "colab_type": "text"
      },
      "source": [
        "<a href=\"https://colab.research.google.com/github/Vulter3653/Python_learning_1_50/blob/main/Baekjoon_2476_%EC%A3%BC%EC%82%AC%EC%9C%84_%EA%B2%8C%EC%9E%84.ipynb\" target=\"_parent\"><img src=\"https://colab.research.google.com/assets/colab-badge.svg\" alt=\"Open In Colab\"/></a>"
      ]
    },
    {
      "cell_type": "code",
      "execution_count": 1,
      "metadata": {
        "colab": {
          "base_uri": "https://localhost:8080/"
        },
        "id": "BnLw2QHcyhR1",
        "outputId": "ee6891be-9163-45e4-8890-77730a4483a2"
      },
      "outputs": [
        {
          "output_type": "stream",
          "name": "stdout",
          "text": [
            "3\n",
            "3 3 6\n",
            "2 2 2\n",
            "6 2 5\n",
            "12000\n"
          ]
        }
      ],
      "source": [
        "N = int(input().rstrip())\n",
        "w = set([])\n",
        "for N in range(N):\n",
        "  a,b,c = map(int,input().rstrip().split())\n",
        "  k = set([a,b,c])\n",
        "  if len(k) == 1:\n",
        "    w.add(10000+a*1000)\n",
        "  elif len(k) == 2:\n",
        "    if b == c:\n",
        "      w.add(1000+b*100)\n",
        "    else:\n",
        "      w.add(1000+a*100)\n",
        "  else:\n",
        "    w.add(max(k)*100)\n",
        "\n",
        "print(max(w))"
      ]
    },
    {
      "cell_type": "code",
      "source": [
        "import sys\n",
        "\n",
        "N = int(sys.stdin.readline().rstrip())\n",
        "w = set([])\n",
        "\n",
        "for N in range(N):\n",
        "  a,b,c = map(int,sys.stdin.readline().rstrip().split())\n",
        "  k = set([a,b,c])\n",
        "  if len(k) == 1:\n",
        "    w.add(10000+a*1000)\n",
        "  elif len(k) == 2:\n",
        "    if b == c:\n",
        "      w.add(1000+b*100)\n",
        "    else:\n",
        "      w.add(1000+a*100)\n",
        "  else:\n",
        "    w.add(max(k)*100)\n",
        "\n",
        "print(max(w))"
      ],
      "metadata": {
        "id": "djdmGNS41lB9"
      },
      "execution_count": null,
      "outputs": []
    }
  ]
}