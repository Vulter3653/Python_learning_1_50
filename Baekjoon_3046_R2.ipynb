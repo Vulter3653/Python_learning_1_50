{
  "nbformat": 4,
  "nbformat_minor": 0,
  "metadata": {
    "colab": {
      "name": "Baekjoon_3046_R2.ipynb",
      "provenance": [],
      "authorship_tag": "ABX9TyOjI9MBcSYKDxfL8XQePBO7",
      "include_colab_link": true
    },
    "kernelspec": {
      "name": "python3",
      "display_name": "Python 3"
    },
    "language_info": {
      "name": "python"
    }
  },
  "cells": [
    {
      "cell_type": "markdown",
      "metadata": {
        "id": "view-in-github",
        "colab_type": "text"
      },
      "source": [
        "<a href=\"https://colab.research.google.com/github/Vulter3653/Python_learning_1_50/blob/main/Baekjoon_3046_R2.ipynb\" target=\"_parent\"><img src=\"https://colab.research.google.com/assets/colab-badge.svg\" alt=\"Open In Colab\"/></a>"
      ]
    },
    {
      "cell_type": "code",
      "execution_count": 2,
      "metadata": {
        "colab": {
          "base_uri": "https://localhost:8080/"
        },
        "id": "cu2L8sGirMUr",
        "outputId": "687266ca-b9df-42a7-910e-edf8800ad8e7"
      },
      "outputs": [
        {
          "output_type": "stream",
          "name": "stdout",
          "text": [
            "4 3\n",
            "2\n"
          ]
        }
      ],
      "source": [
        "R1,S = map(int, input().split())\n",
        "\n",
        "print(2*S-R1)"
      ]
    },
    {
      "cell_type": "code",
      "source": [
        "import sys\n",
        "R1,S = map(int, sys.stdin.readline().split())\n",
        "\n",
        "print(2*S-R1) "
      ],
      "metadata": {
        "id": "xWTOsuiIrnt1"
      },
      "execution_count": null,
      "outputs": []
    }
  ]
}