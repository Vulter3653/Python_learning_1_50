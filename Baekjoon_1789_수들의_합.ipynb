{
  "nbformat": 4,
  "nbformat_minor": 0,
  "metadata": {
    "colab": {
      "name": "Baekjoon_1789_수들의 합.ipynb",
      "provenance": [],
      "collapsed_sections": [],
      "authorship_tag": "ABX9TyOQmNhyMEV2aLqakmJ0k0xY",
      "include_colab_link": true
    },
    "kernelspec": {
      "name": "python3",
      "display_name": "Python 3"
    },
    "language_info": {
      "name": "python"
    }
  },
  "cells": [
    {
      "cell_type": "markdown",
      "metadata": {
        "id": "view-in-github",
        "colab_type": "text"
      },
      "source": [
        "<a href=\"https://colab.research.google.com/github/Vulter3653/Python_learning_1_50/blob/main/Baekjoon_1789_%EC%88%98%EB%93%A4%EC%9D%98_%ED%95%A9.ipynb\" target=\"_parent\"><img src=\"https://colab.research.google.com/assets/colab-badge.svg\" alt=\"Open In Colab\"/></a>"
      ]
    },
    {
      "cell_type": "code",
      "execution_count": 8,
      "metadata": {
        "colab": {
          "base_uri": "https://localhost:8080/"
        },
        "id": "k8oGSx4KarAm",
        "outputId": "877b9e1e-1c90-4af5-f7b1-81b182d58203"
      },
      "outputs": [
        {
          "output_type": "stream",
          "name": "stdout",
          "text": [
            "3\n",
            "2\n"
          ]
        }
      ],
      "source": [
        "S = int(input().rstrip())\n",
        "cnt =0\n",
        "y = 0\n",
        "for x in range(1,S+1):\n",
        "  if y == S:\n",
        "    break\n",
        "  elif S - y < x:\n",
        "    break\n",
        "  else:\n",
        "    y += x\n",
        "    cnt += 1\n",
        "\n",
        "print(cnt)"
      ]
    },
    {
      "cell_type": "code",
      "source": [
        "import sys\n",
        "\n",
        "S = int(sys.stdin.readline().rstrip())\n",
        "cnt =0\n",
        "y = 0\n",
        "for x in range(1,S+1):\n",
        "  if y == S:\n",
        "    break\n",
        "  elif S - y < x:\n",
        "    break\n",
        "  else:\n",
        "    y += x\n",
        "    cnt += 1\n",
        "\n",
        "print(cnt)"
      ],
      "metadata": {
        "id": "N6sjcDSCswLU"
      },
      "execution_count": null,
      "outputs": []
    }
  ]
}