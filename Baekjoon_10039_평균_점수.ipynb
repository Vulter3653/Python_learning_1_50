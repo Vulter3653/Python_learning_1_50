{
  "nbformat": 4,
  "nbformat_minor": 0,
  "metadata": {
    "colab": {
      "name": "Baekjoon_10039_평균 점수.ipynb",
      "provenance": [],
      "authorship_tag": "ABX9TyNUiQH4DsgBQrBKbRDnB4ec",
      "include_colab_link": true
    },
    "kernelspec": {
      "name": "python3",
      "display_name": "Python 3"
    },
    "language_info": {
      "name": "python"
    }
  },
  "cells": [
    {
      "cell_type": "markdown",
      "metadata": {
        "id": "view-in-github",
        "colab_type": "text"
      },
      "source": [
        "<a href=\"https://colab.research.google.com/github/Vulter3653/Python_learning_1_50/blob/main/Baekjoon_10039_%ED%8F%89%EA%B7%A0_%EC%A0%90%EC%88%98.ipynb\" target=\"_parent\"><img src=\"https://colab.research.google.com/assets/colab-badge.svg\" alt=\"Open In Colab\"/></a>"
      ]
    },
    {
      "cell_type": "code",
      "execution_count": 8,
      "metadata": {
        "colab": {
          "base_uri": "https://localhost:8080/"
        },
        "id": "cDYAfHX9C_05",
        "outputId": "2449e057-e62f-4666-f444-ead1cc42d246"
      },
      "outputs": [
        {
          "output_type": "stream",
          "name": "stdout",
          "text": [
            "10\n",
            "65\n",
            "100\n",
            "30\n",
            "95\n",
            "68\n"
          ]
        }
      ],
      "source": [
        "a = []\n",
        "for _ in range(5):\n",
        "  b = int(input().rstrip())\n",
        "  if b < 40:\n",
        "    b = 40\n",
        "  a.append(b)\n",
        "\n",
        "print(sum(a)//5)"
      ]
    },
    {
      "cell_type": "code",
      "source": [
        "import sys\n",
        "\n",
        "a = []\n",
        "for _ in range(5):\n",
        "  b = int(sys.stdin.readline().rstrip())\n",
        "  if b < 40:\n",
        "    b = 40\n",
        "  a.append(b)\n",
        "\n",
        "print(sum(a)//5)"
      ],
      "metadata": {
        "id": "iIh2BbL2Fh-q"
      },
      "execution_count": null,
      "outputs": []
    },
    {
      "cell_type": "code",
      "source": [
        "#ModuleNotFoundError 발생\n",
        "import numpy\n",
        "\n",
        "a = []\n",
        "for _ in range(5):\n",
        "  b = int(input().rstrip())\n",
        "  if b < 40:\n",
        "    b = 40\n",
        "  a.append(b)\n",
        "\n",
        "print(int(numpy.mean(a)))"
      ],
      "metadata": {
        "colab": {
          "base_uri": "https://localhost:8080/"
        },
        "id": "vxnQVV6aFLad",
        "outputId": "87c04c6e-e55d-44d0-e6b0-ebefb4d080e3"
      },
      "execution_count": 9,
      "outputs": [
        {
          "output_type": "stream",
          "name": "stdout",
          "text": [
            "10\n",
            "65\n",
            "100\n",
            "30\n",
            "95\n",
            "68\n"
          ]
        }
      ]
    }
  ]
}