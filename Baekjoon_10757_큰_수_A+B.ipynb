{
  "nbformat": 4,
  "nbformat_minor": 0,
  "metadata": {
    "colab": {
      "name": "Baekjoon_10757_큰 수 A+B.ipynb",
      "provenance": [],
      "authorship_tag": "ABX9TyMzK26R0io+aseHaHc/DuNR",
      "include_colab_link": true
    },
    "kernelspec": {
      "name": "python3",
      "display_name": "Python 3"
    },
    "language_info": {
      "name": "python"
    }
  },
  "cells": [
    {
      "cell_type": "markdown",
      "metadata": {
        "id": "view-in-github",
        "colab_type": "text"
      },
      "source": [
        "<a href=\"https://colab.research.google.com/github/Vulter3653/Python_learning_1_50/blob/main/Baekjoon_10757_%ED%81%B0_%EC%88%98_A%2BB.ipynb\" target=\"_parent\"><img src=\"https://colab.research.google.com/assets/colab-badge.svg\" alt=\"Open In Colab\"/></a>"
      ]
    },
    {
      "cell_type": "code",
      "execution_count": 1,
      "metadata": {
        "colab": {
          "base_uri": "https://localhost:8080/"
        },
        "id": "NxsArPDnH8e0",
        "outputId": "5e71a3a9-6d35-4b0d-9a9b-aabfead4e5ec"
      },
      "outputs": [
        {
          "output_type": "stream",
          "name": "stdout",
          "text": [
            "9223372036854775807 9223372036854775808\n",
            "18446744073709551615\n"
          ]
        }
      ],
      "source": [
        "A,B=map(int,input().rstrip().split())\n",
        "\n",
        "print(A+B)"
      ]
    },
    {
      "cell_type": "code",
      "source": [
        "import sys\n",
        "A,B=map(int,sys.stdin.readline().rstrip().split())\n",
        "\n",
        "print(A+B)"
      ],
      "metadata": {
        "id": "Q3tv7__6Ip6-"
      },
      "execution_count": null,
      "outputs": []
    }
  ]
}