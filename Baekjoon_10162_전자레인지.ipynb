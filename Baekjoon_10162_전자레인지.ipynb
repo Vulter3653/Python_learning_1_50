{
  "nbformat": 4,
  "nbformat_minor": 0,
  "metadata": {
    "colab": {
      "name": "Baekjoon_10162_전자레인지.ipynb",
      "provenance": [],
      "authorship_tag": "ABX9TyMSPwsdZ+JzTYcQcwTdfR34",
      "include_colab_link": true
    },
    "kernelspec": {
      "name": "python3",
      "display_name": "Python 3"
    },
    "language_info": {
      "name": "python"
    }
  },
  "cells": [
    {
      "cell_type": "markdown",
      "metadata": {
        "id": "view-in-github",
        "colab_type": "text"
      },
      "source": [
        "<a href=\"https://colab.research.google.com/github/Vulter3653/Python_learning_1_50/blob/main/Baekjoon_10162_%EC%A0%84%EC%9E%90%EB%A0%88%EC%9D%B8%EC%A7%80.ipynb\" target=\"_parent\"><img src=\"https://colab.research.google.com/assets/colab-badge.svg\" alt=\"Open In Colab\"/></a>"
      ]
    },
    {
      "cell_type": "code",
      "execution_count": 6,
      "metadata": {
        "colab": {
          "base_uri": "https://localhost:8080/"
        },
        "id": "XUQsVP-Zlg9O",
        "outputId": "3fb7e799-5570-443f-88bc-c528109788ab"
      },
      "outputs": [
        {
          "output_type": "stream",
          "name": "stdout",
          "text": [
            "100\n",
            "0 1 4\n"
          ]
        }
      ],
      "source": [
        "T = int(input().rstrip())\n",
        "cnt1 = 0\n",
        "cnt2 = 0\n",
        "cnt3 = 0\n",
        "\n",
        "if T%10 == 0:\n",
        "  while T != 0:\n",
        "    if T>=300:\n",
        "      cnt1 += T//300\n",
        "      T = T%300\n",
        "    elif T >= 60:\n",
        "      cnt2 += T//60\n",
        "      T = T%60\n",
        "    elif T >= 10:\n",
        "      cnt3 += T//10\n",
        "      T = T%10\n",
        "  print('%d %d %d'%(cnt1,cnt2,cnt3))\n",
        "else:\n",
        "  print(-1)"
      ]
    },
    {
      "cell_type": "code",
      "source": [
        "import sys\n",
        "\n",
        "T = int(sys.stdin.readline().rstrip())\n",
        "cnt1 = 0\n",
        "cnt2 = 0\n",
        "cnt3 = 0\n",
        "\n",
        "if T%10 == 0:\n",
        "  while T != 0:\n",
        "    if T>=300:\n",
        "      cnt1 += T//300\n",
        "      T = T%300\n",
        "    elif T >= 60:\n",
        "      cnt2 += T//60\n",
        "      T = T%60\n",
        "    elif T >= 10:\n",
        "      cnt3 += T//10\n",
        "      T = T%10\n",
        "  print('%d %d %d'%(cnt1,cnt2,cnt3))\n",
        "else:\n",
        "  print(-1)"
      ],
      "metadata": {
        "id": "hP2NJZyBodxK"
      },
      "execution_count": null,
      "outputs": []
    }
  ]
}