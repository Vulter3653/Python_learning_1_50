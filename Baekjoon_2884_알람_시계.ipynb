{
  "nbformat": 4,
  "nbformat_minor": 0,
  "metadata": {
    "colab": {
      "name": "Baekjoon_2884_알람 시계.ipynb",
      "provenance": [],
      "authorship_tag": "ABX9TyMqna9YmDQkCop6wqOD3SIG",
      "include_colab_link": true
    },
    "kernelspec": {
      "name": "python3",
      "display_name": "Python 3"
    },
    "language_info": {
      "name": "python"
    }
  },
  "cells": [
    {
      "cell_type": "markdown",
      "metadata": {
        "id": "view-in-github",
        "colab_type": "text"
      },
      "source": [
        "<a href=\"https://colab.research.google.com/github/Vulter3653/Python_learning_1_50/blob/main/Baekjoon_2884_%EC%95%8C%EB%9E%8C_%EC%8B%9C%EA%B3%84.ipynb\" target=\"_parent\"><img src=\"https://colab.research.google.com/assets/colab-badge.svg\" alt=\"Open In Colab\"/></a>"
      ]
    },
    {
      "cell_type": "code",
      "execution_count": 4,
      "metadata": {
        "colab": {
          "base_uri": "https://localhost:8080/"
        },
        "id": "4WZIe9BRCjNd",
        "outputId": "8eabd39a-9011-4794-8b3f-dcf29029909f"
      },
      "outputs": [
        {
          "output_type": "stream",
          "name": "stdout",
          "text": [
            "10 10\n",
            "9 25\n"
          ]
        }
      ],
      "source": [
        "H,M = map(int,input().rstrip().split())\n",
        "\n",
        "M2 = M-45\n",
        "if M -45 < 0:\n",
        "  H = H-1\n",
        "  if H == -1:\n",
        "    H = 23\n",
        "  M = 60+M2\n",
        "  print(str(H)+' '+str(M))\n",
        "else:\n",
        "  print(str(H)+' '+str(M2))"
      ]
    },
    {
      "cell_type": "code",
      "source": [
        "import sys\n",
        "H,M = map(int, sys.stdin.readline().rstrip().split())\n",
        "\n",
        "M2 = M-45\n",
        "if M -45 < 0:\n",
        "  H = H-1\n",
        "  if H == -1:\n",
        "    H = 23\n",
        "  M = 60+M2\n",
        "  print(str(H)+' '+str(M))\n",
        "else:\n",
        "  print(str(H)+' '+str(M2))"
      ],
      "metadata": {
        "id": "Lt0ibL1YEFqH"
      },
      "execution_count": null,
      "outputs": []
    }
  ]
}