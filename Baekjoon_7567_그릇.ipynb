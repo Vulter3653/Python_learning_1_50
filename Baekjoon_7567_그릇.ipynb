{
  "nbformat": 4,
  "nbformat_minor": 0,
  "metadata": {
    "colab": {
      "name": "Baekjoon_7567_그릇.ipynb",
      "provenance": [],
      "authorship_tag": "ABX9TyOKLWQdFs4Tyo5sn/CV7cVH",
      "include_colab_link": true
    },
    "kernelspec": {
      "name": "python3",
      "display_name": "Python 3"
    },
    "language_info": {
      "name": "python"
    }
  },
  "cells": [
    {
      "cell_type": "markdown",
      "metadata": {
        "id": "view-in-github",
        "colab_type": "text"
      },
      "source": [
        "<a href=\"https://colab.research.google.com/github/Vulter3653/Python_learning_1_50/blob/main/Baekjoon_7567_%EA%B7%B8%EB%A6%87.ipynb\" target=\"_parent\"><img src=\"https://colab.research.google.com/assets/colab-badge.svg\" alt=\"Open In Colab\"/></a>"
      ]
    },
    {
      "cell_type": "code",
      "execution_count": 9,
      "metadata": {
        "colab": {
          "base_uri": "https://localhost:8080/"
        },
        "id": "unuQkkKA436r",
        "outputId": "18460e1b-7238-4d9e-f553-b65acbf1577f"
      },
      "outputs": [
        {
          "output_type": "stream",
          "name": "stdout",
          "text": [
            "()()()))(\n",
            "80\n"
          ]
        }
      ],
      "source": [
        "from collections import deque\n",
        "a = deque(list(input().rstrip()))\n",
        "h = 10\n",
        "left = a.popleft()\n",
        "for x in range(len(a)):\n",
        "  if left == a[0]:\n",
        "    h +=5\n",
        "    left = a.popleft()\n",
        "  else:\n",
        "    h+=10\n",
        "    left = a.popleft()\n",
        "\n",
        "print(h)"
      ]
    },
    {
      "cell_type": "code",
      "source": [
        "import sys\n",
        "from collections import deque\n",
        "a = deque(list(sys.stdin.readline().rstrip()))\n",
        "h = 10\n",
        "left = a.popleft()\n",
        "for x in range(len(a)):\n",
        "  if left == a[0]:\n",
        "    h +=5\n",
        "    left = a.popleft()\n",
        "  else:\n",
        "    h+=10\n",
        "    left = a.popleft()\n",
        "\n",
        "print(h)"
      ],
      "metadata": {
        "id": "hMVgFFhq6l5l"
      },
      "execution_count": null,
      "outputs": []
    }
  ]
}