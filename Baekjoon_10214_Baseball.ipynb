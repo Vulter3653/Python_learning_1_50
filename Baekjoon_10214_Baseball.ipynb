{
  "nbformat": 4,
  "nbformat_minor": 0,
  "metadata": {
    "colab": {
      "name": "Baekjoon_10214_Baseball.ipynb",
      "provenance": [],
      "authorship_tag": "ABX9TyO/JFoISzTw7bQznMVGpi3n",
      "include_colab_link": true
    },
    "kernelspec": {
      "name": "python3",
      "display_name": "Python 3"
    },
    "language_info": {
      "name": "python"
    }
  },
  "cells": [
    {
      "cell_type": "markdown",
      "metadata": {
        "id": "view-in-github",
        "colab_type": "text"
      },
      "source": [
        "<a href=\"https://colab.research.google.com/github/Vulter3653/Python_learning_1_50/blob/main/Baekjoon_10214_Baseball.ipynb\" target=\"_parent\"><img src=\"https://colab.research.google.com/assets/colab-badge.svg\" alt=\"Open In Colab\"/></a>"
      ]
    },
    {
      "cell_type": "code",
      "execution_count": 1,
      "metadata": {
        "colab": {
          "base_uri": "https://localhost:8080/"
        },
        "id": "y2PbgX7CYEHE",
        "outputId": "9d50b3e5-5c87-4cb3-b452-75d0337c7a58"
      },
      "outputs": [
        {
          "output_type": "stream",
          "name": "stdout",
          "text": [
            "1\n",
            "1 0\n",
            "0 0\n",
            "0 0\n",
            "0 0\n",
            "0 0\n",
            "0 0\n",
            "0 0\n",
            "0 0\n",
            "0 0\n",
            "Yonsei\n"
          ]
        }
      ],
      "source": [
        "T = int(input().rstrip())\n",
        "\n",
        "for T in range(T):\n",
        "  Ys = 0\n",
        "  Ks = 0\n",
        "  for _ in range(9):\n",
        "    Y,K = map(int,input().rstrip().split())\n",
        "    Ys += Y\n",
        "    Ks += K\n",
        "  \n",
        "  if Ys > Ks:\n",
        "    print(\"Yonsei\")\n",
        "  elif Ys < Ks:\n",
        "    print(\"Korea\")\n",
        "  else:\n",
        "    print(\"Draw\")"
      ]
    },
    {
      "cell_type": "code",
      "source": [
        "import sys\n",
        "\n",
        "T = int(sys.stdin.readline().rstrip())\n",
        "\n",
        "for T in range(T):\n",
        "  Ys = 0\n",
        "  Ks = 0\n",
        "  for _ in range(9):\n",
        "    Y,K = map(int,sys.stdin.readline().rstrip().split())\n",
        "    Ys += Y\n",
        "    Ks += K\n",
        "  \n",
        "  if Ys > Ks:\n",
        "    print(\"Yonsei\")\n",
        "  elif Ys < Ks:\n",
        "    print(\"Korea\")\n",
        "  else:\n",
        "    print(\"Draw\")"
      ],
      "metadata": {
        "id": "ZzkKUlpQZE3Z"
      },
      "execution_count": null,
      "outputs": []
    }
  ]
}