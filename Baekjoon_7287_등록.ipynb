{
  "nbformat": 4,
  "nbformat_minor": 0,
  "metadata": {
    "colab": {
      "name": "Baekjoon_7287_등록.ipynb",
      "provenance": [],
      "authorship_tag": "ABX9TyNU1rSKBSgbVeYiUWYdH4wy",
      "include_colab_link": true
    },
    "kernelspec": {
      "name": "python3",
      "display_name": "Python 3"
    },
    "language_info": {
      "name": "python"
    }
  },
  "cells": [
    {
      "cell_type": "markdown",
      "metadata": {
        "id": "view-in-github",
        "colab_type": "text"
      },
      "source": [
        "<a href=\"https://colab.research.google.com/github/Vulter3653/Python_learning_1_50/blob/main/Baekjoon_7287_%EB%93%B1%EB%A1%9D.ipynb\" target=\"_parent\"><img src=\"https://colab.research.google.com/assets/colab-badge.svg\" alt=\"Open In Colab\"/></a>"
      ]
    },
    {
      "cell_type": "code",
      "execution_count": null,
      "metadata": {
        "id": "PGX0jw1St5Wo"
      },
      "outputs": [],
      "source": [
        "#정답처리 되었다. 그냥 입력하니 되는 문제였다\n",
        "print(53)\n",
        "print('shch3653')"
      ]
    }
  ]
}