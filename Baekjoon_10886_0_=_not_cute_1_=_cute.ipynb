{
  "nbformat": 4,
  "nbformat_minor": 0,
  "metadata": {
    "colab": {
      "name": "Baekjoon_10886_0 = not cute / 1 = cute.ipynb",
      "provenance": [],
      "authorship_tag": "ABX9TyMyu66oyiRZSjQHrnj6TTQF",
      "include_colab_link": true
    },
    "kernelspec": {
      "name": "python3",
      "display_name": "Python 3"
    },
    "language_info": {
      "name": "python"
    }
  },
  "cells": [
    {
      "cell_type": "markdown",
      "metadata": {
        "id": "view-in-github",
        "colab_type": "text"
      },
      "source": [
        "<a href=\"https://colab.research.google.com/github/Vulter3653/Python_learning_1_50/blob/main/Baekjoon_10886_0_%3D_not_cute_1_%3D_cute.ipynb\" target=\"_parent\"><img src=\"https://colab.research.google.com/assets/colab-badge.svg\" alt=\"Open In Colab\"/></a>"
      ]
    },
    {
      "cell_type": "code",
      "execution_count": 1,
      "metadata": {
        "colab": {
          "base_uri": "https://localhost:8080/"
        },
        "id": "Hb0cSIkswItR",
        "outputId": "6acb4dbd-afcf-40ed-d6a3-df69969db1a3"
      },
      "outputs": [
        {
          "output_type": "stream",
          "name": "stdout",
          "text": [
            "3\n",
            "1\n",
            "0\n",
            "0\n",
            "Junhee is not cute!\n"
          ]
        }
      ],
      "source": [
        "N = int(input())\n",
        "cute = 0\n",
        "not_cute = 0\n",
        "\n",
        "for N in range(N):\n",
        "  a = int(input().rstrip())\n",
        "  if a == 1:\n",
        "    cute += 1\n",
        "  else:\n",
        "    not_cute += 1\n",
        "\n",
        "if cute > not_cute:\n",
        "  print(\"Junhee is cute!\")\n",
        "else:\n",
        "  print(\"Junhee is not cute!\")"
      ]
    },
    {
      "cell_type": "code",
      "source": [
        "import sys\n",
        "N = int(sys.stdin.readline())\n",
        "cute = 0\n",
        "not_cute = 0\n",
        "\n",
        "for N in range(N):\n",
        "  a = int(sys.stdin.readline().rstrip())\n",
        "  if a == 1:\n",
        "    cute += 1\n",
        "  else:\n",
        "    not_cute += 1\n",
        "\n",
        "if cute > not_cute:\n",
        "  print(\"Junhee is cute!\")\n",
        "else:\n",
        "  print(\"Junhee is not cute!\")"
      ],
      "metadata": {
        "id": "OEklWIdhw6iv"
      },
      "execution_count": null,
      "outputs": []
    }
  ]
}