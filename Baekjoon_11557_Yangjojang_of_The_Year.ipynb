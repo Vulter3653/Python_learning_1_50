{
  "nbformat": 4,
  "nbformat_minor": 0,
  "metadata": {
    "colab": {
      "name": "Baekjoon_11557_Yangjojang of The Year.ipynb",
      "provenance": [],
      "authorship_tag": "ABX9TyMTIXyzvLdXybgdzP7NJ4HZ",
      "include_colab_link": true
    },
    "kernelspec": {
      "name": "python3",
      "display_name": "Python 3"
    },
    "language_info": {
      "name": "python"
    }
  },
  "cells": [
    {
      "cell_type": "markdown",
      "metadata": {
        "id": "view-in-github",
        "colab_type": "text"
      },
      "source": [
        "<a href=\"https://colab.research.google.com/github/Vulter3653/Python_learning_1_50/blob/main/Baekjoon_11557_Yangjojang_of_The_Year.ipynb\" target=\"_parent\"><img src=\"https://colab.research.google.com/assets/colab-badge.svg\" alt=\"Open In Colab\"/></a>"
      ]
    },
    {
      "cell_type": "code",
      "execution_count": 4,
      "metadata": {
        "colab": {
          "base_uri": "https://localhost:8080/"
        },
        "id": "1bmQKBoa2zfQ",
        "outputId": "40fae421-7e23-475f-82f2-a40c54602258"
      },
      "outputs": [
        {
          "output_type": "stream",
          "name": "stdout",
          "text": [
            "2\n",
            "3\n",
            "Yonsei 10\n",
            "Korea 10000000\n",
            "Ewha 20\n",
            "Korea\n",
            "2\n",
            "Yonsei 1\n",
            "Korea 10000000\n",
            "Korea\n"
          ]
        }
      ],
      "source": [
        "T = int(input().rstrip())\n",
        "\n",
        "for T in range(T):\n",
        "  N = int(input().rstrip())\n",
        "  max_a = 0\n",
        "  max_b = 0 \n",
        "  for N in range(N):\n",
        "    a,b = input().rstrip().split()\n",
        "    if int(b) > max_b:\n",
        "      max_a = a\n",
        "      max_b = int(b)\n",
        "  \n",
        "  print(max_a)"
      ]
    },
    {
      "cell_type": "code",
      "source": [
        "import sys\n",
        "\n",
        "T = int(sys.stdin.readline().rstrip())\n",
        "\n",
        "for T in range(T):\n",
        "  N = int(sys.stdin.readline().rstrip())\n",
        "  max_a = 0\n",
        "  max_b = 0 \n",
        "  for N in range(N):\n",
        "    a,b = input().rstrip().split()\n",
        "    if int(b) > max_b:\n",
        "      max_a = a\n",
        "      max_b = int(b)\n",
        "  \n",
        "  print(max_a)"
      ],
      "metadata": {
        "id": "i0bZsNYt4Goe"
      },
      "execution_count": null,
      "outputs": []
    }
  ]
}