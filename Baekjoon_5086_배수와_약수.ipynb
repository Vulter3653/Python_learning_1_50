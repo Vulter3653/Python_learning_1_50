{
  "nbformat": 4,
  "nbformat_minor": 0,
  "metadata": {
    "colab": {
      "name": "Baekjoon_5086_배수와 약수.ipynb",
      "provenance": [],
      "authorship_tag": "ABX9TyMMq6dgfUfLhjU4q7vXZvLo",
      "include_colab_link": true
    },
    "kernelspec": {
      "name": "python3",
      "display_name": "Python 3"
    },
    "language_info": {
      "name": "python"
    }
  },
  "cells": [
    {
      "cell_type": "markdown",
      "metadata": {
        "id": "view-in-github",
        "colab_type": "text"
      },
      "source": [
        "<a href=\"https://colab.research.google.com/github/Vulter3653/Python_learning_1_50/blob/main/Baekjoon_5086_%EB%B0%B0%EC%88%98%EC%99%80_%EC%95%BD%EC%88%98.ipynb\" target=\"_parent\"><img src=\"https://colab.research.google.com/assets/colab-badge.svg\" alt=\"Open In Colab\"/></a>"
      ]
    },
    {
      "cell_type": "code",
      "execution_count": 1,
      "metadata": {
        "colab": {
          "base_uri": "https://localhost:8080/"
        },
        "id": "2CSHot6xPqtX",
        "outputId": "1ba84fd2-aaac-466d-b61e-00903cc4a0ca"
      },
      "outputs": [
        {
          "name": "stdout",
          "output_type": "stream",
          "text": [
            "8 16\n",
            "factor\n",
            "32 4\n",
            "multiple\n",
            "17 5\n",
            "neither\n",
            "0 0\n"
          ]
        }
      ],
      "source": [
        "while True:\n",
        "  a,b = map(int,input().rstrip().split())\n",
        "  if a == 0 and b == 0:\n",
        "    break\n",
        "  elif a > b and a%b == 0:\n",
        "    print('multiple')\n",
        "  elif a < b and b%a == 0:\n",
        "    print('factor')\n",
        "  else:\n",
        "    print('neither')"
      ]
    },
    {
      "cell_type": "code",
      "source": [
        "import sys\n",
        "\n",
        "while True:\n",
        "  a,b = map(int,sys.stdin.readline().rstrip().split())\n",
        "  if a == 0 and b == 0:\n",
        "    break\n",
        "  elif a > b and a%b == 0:\n",
        "    print('multiple')\n",
        "  elif a < b and b%a == 0:\n",
        "    print('factor')\n",
        "  else:\n",
        "    print('neither')"
      ],
      "metadata": {
        "id": "Ef_JafDjQS4-"
      },
      "execution_count": null,
      "outputs": []
    }
  ]
}