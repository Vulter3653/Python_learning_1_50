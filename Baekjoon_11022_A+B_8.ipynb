{
  "nbformat": 4,
  "nbformat_minor": 0,
  "metadata": {
    "colab": {
      "name": "Baekjoon_11022_A+B - 8.ipynb",
      "provenance": [],
      "authorship_tag": "ABX9TyOQb9dei7JYwXP//GI8NfZO",
      "include_colab_link": true
    },
    "kernelspec": {
      "name": "python3",
      "display_name": "Python 3"
    },
    "language_info": {
      "name": "python"
    }
  },
  "cells": [
    {
      "cell_type": "markdown",
      "metadata": {
        "id": "view-in-github",
        "colab_type": "text"
      },
      "source": [
        "<a href=\"https://colab.research.google.com/github/Vulter3653/Python_learning_1_50/blob/main/Baekjoon_11022_A%2BB_8.ipynb\" target=\"_parent\"><img src=\"https://colab.research.google.com/assets/colab-badge.svg\" alt=\"Open In Colab\"/></a>"
      ]
    },
    {
      "cell_type": "code",
      "execution_count": 1,
      "metadata": {
        "colab": {
          "base_uri": "https://localhost:8080/"
        },
        "id": "40QBmPtLq6H0",
        "outputId": "290b6091-9a31-4204-caa6-3bf7091d289f"
      },
      "outputs": [
        {
          "output_type": "stream",
          "name": "stdout",
          "text": [
            "5\n",
            "1 1\n",
            "Case #1: 1 + 1 = 2\n",
            "2 3\n",
            "Case #2: 2 + 3 = 5\n",
            "3 4\n",
            "Case #3: 3 + 4 = 7\n",
            "9 8\n",
            "Case #4: 9 + 8 = 17\n",
            "5 2\n",
            "Case #5: 5 + 2 = 7\n"
          ]
        }
      ],
      "source": [
        "T = int(input())\n",
        "\n",
        "for T in range(1,T+1):\n",
        "  A,B = map(int,input().rstrip().split())\n",
        "  print('Case #'+str(T)+': '+str(A)+' + '+str(B)+' = '+str(A+B))"
      ]
    },
    {
      "cell_type": "code",
      "source": [
        "import sys\n",
        "T = int(sys.stdin.readline())\n",
        "\n",
        "for T in range(1,T+1):\n",
        "  A,B = map(int,sys.stdin.readline().rstrip().split())\n",
        "  print('Case #'+str(T)+': '+str(A)+' + '+str(B)+' = '+str(A+B))"
      ],
      "metadata": {
        "id": "7pI-K9wLrU5o"
      },
      "execution_count": null,
      "outputs": []
    }
  ]
}