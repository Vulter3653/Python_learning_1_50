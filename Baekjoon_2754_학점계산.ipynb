{
  "nbformat": 4,
  "nbformat_minor": 0,
  "metadata": {
    "colab": {
      "name": "Baekjoon_2754_학점계산.ipynb",
      "provenance": [],
      "authorship_tag": "ABX9TyPUlmQrQcg+k0UuKodeSz0Z",
      "include_colab_link": true
    },
    "kernelspec": {
      "name": "python3",
      "display_name": "Python 3"
    },
    "language_info": {
      "name": "python"
    }
  },
  "cells": [
    {
      "cell_type": "markdown",
      "metadata": {
        "id": "view-in-github",
        "colab_type": "text"
      },
      "source": [
        "<a href=\"https://colab.research.google.com/github/Vulter3653/Python_learning_1_50/blob/main/Baekjoon_2754_%ED%95%99%EC%A0%90%EA%B3%84%EC%82%B0.ipynb\" target=\"_parent\"><img src=\"https://colab.research.google.com/assets/colab-badge.svg\" alt=\"Open In Colab\"/></a>"
      ]
    },
    {
      "cell_type": "code",
      "source": [
        "c = input()\n",
        "\n",
        "if c == 'A+':\n",
        "  print('4.3')\n",
        "elif c == 'A0':\n",
        "  print('4.0')\n",
        "elif c == 'A-':\n",
        "  print('3.7')\n",
        "elif c == 'B+':\n",
        "  print('3.3')\n",
        "elif c == 'B0':\n",
        "  print('3.0')\n",
        "elif c == 'B-':\n",
        "  print('2.7')\n",
        "elif c == 'C+':\n",
        "  print('2.3')\n",
        "elif c == 'C0':\n",
        "  print('2.0')\n",
        "elif c == 'C-':\n",
        "  print('1.7')\n",
        "elif c == 'D+':\n",
        "  print('1.3')\n",
        "elif c == 'D0':\n",
        "  print('1.0')\n",
        "elif c == 'D-':\n",
        "  print('0.7')\n",
        "elif c == 'F':\n",
        "  print('0.0')"
      ],
      "metadata": {
        "colab": {
          "base_uri": "https://localhost:8080/"
        },
        "id": "WWWD2azJH5au",
        "outputId": "a7371cc8-5d40-4e34-e017-320003e93cd4"
      },
      "execution_count": 2,
      "outputs": [
        {
          "output_type": "stream",
          "name": "stdout",
          "text": [
            "A0\n",
            "4.0\n"
          ]
        }
      ]
    },
    {
      "cell_type": "code",
      "execution_count": 1,
      "metadata": {
        "id": "bVfExJSVGf5H"
      },
      "outputs": [],
      "source": [
        "import sys\n",
        "\n",
        "c = sys.stdin.readline().rstrip()\n",
        "\n",
        "if c == 'A+':\n",
        "  print('4.3')\n",
        "elif c == 'A0':\n",
        "  print('4.0')\n",
        "elif c == 'A-':\n",
        "  print('3.7')\n",
        "elif c == 'B+':\n",
        "  print('3.3')\n",
        "elif c == 'B0':\n",
        "  print('3.0')\n",
        "elif c == 'B-':\n",
        "  print('2.7')\n",
        "elif c == 'C+':\n",
        "  print('2.3')\n",
        "elif c == 'C0':\n",
        "  print('2.0')\n",
        "elif c == 'C-':\n",
        "  print('1.7')\n",
        "elif c == 'D+':\n",
        "  print('1.3')\n",
        "elif c == 'D0':\n",
        "  print('1.0')\n",
        "elif c == 'D-':\n",
        "  print('0.7')\n",
        "elif c == 'F':\n",
        "  print('0.0')"
      ]
    }
  ]
}