{
  "nbformat": 4,
  "nbformat_minor": 0,
  "metadata": {
    "colab": {
      "name": "Baekjoon_5355_화성 수학.ipynb",
      "provenance": [],
      "authorship_tag": "ABX9TyOZGubOK8uz5KNYAnQv2ge6",
      "include_colab_link": true
    },
    "kernelspec": {
      "name": "python3",
      "display_name": "Python 3"
    },
    "language_info": {
      "name": "python"
    }
  },
  "cells": [
    {
      "cell_type": "markdown",
      "metadata": {
        "id": "view-in-github",
        "colab_type": "text"
      },
      "source": [
        "<a href=\"https://colab.research.google.com/github/Vulter3653/Python_learning_1_50/blob/main/Baekjoon_5355_%ED%99%94%EC%84%B1_%EC%88%98%ED%95%99.ipynb\" target=\"_parent\"><img src=\"https://colab.research.google.com/assets/colab-badge.svg\" alt=\"Open In Colab\"/></a>"
      ]
    },
    {
      "cell_type": "code",
      "execution_count": 6,
      "metadata": {
        "colab": {
          "base_uri": "https://localhost:8080/"
        },
        "id": "QRhiHWxgRB4L",
        "outputId": "8a42817d-a127-41cb-eade-d3d51b8de2f1"
      },
      "outputs": [
        {
          "output_type": "stream",
          "name": "stdout",
          "text": [
            "3\n",
            "3 @ %\n",
            "14.00\n",
            "10.4 # % @\n",
            "25.20\n",
            "8 #\n",
            "1.00\n"
          ]
        }
      ],
      "source": [
        "from collections import deque \n",
        "T = int(input().rstrip())\n",
        "\n",
        "for T in range(T):\n",
        "  a = deque(input().rstrip().split())\n",
        "  x = float(a.popleft())\n",
        "  for _ in range(len(a)):\n",
        "    y = a.popleft()\n",
        "    if y == '@':\n",
        "      x = x*3\n",
        "    elif y == '%':\n",
        "      x += 5\n",
        "    elif y == '#':\n",
        "      x -= 7\n",
        "  print('%.2f'%x)"
      ]
    },
    {
      "cell_type": "code",
      "source": [
        "from collections import deque \n",
        "import sys\n",
        "T = int(sys.stdin.readline().rstrip())\n",
        "\n",
        "for T in range(T):\n",
        "  a = deque(sys.stdin.readline().rstrip().split())\n",
        "  x = float(a.popleft())\n",
        "  for _ in range(len(a)):\n",
        "    y = a.popleft()\n",
        "    if y == '@':\n",
        "      x = x*3\n",
        "    elif y == '%':\n",
        "      x += 5\n",
        "    elif y == '#':\n",
        "      x -= 7\n",
        "  print('%.2f'%x)"
      ],
      "metadata": {
        "id": "PhgxcHX-TRim"
      },
      "execution_count": null,
      "outputs": []
    }
  ]
}