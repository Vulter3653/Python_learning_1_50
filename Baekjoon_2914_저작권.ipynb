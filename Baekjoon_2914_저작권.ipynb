{
  "nbformat": 4,
  "nbformat_minor": 0,
  "metadata": {
    "colab": {
      "name": "Baekjoon_2914_저작권.ipynb",
      "provenance": [],
      "authorship_tag": "ABX9TyPvbHomu++UipCFiDP6OF0A",
      "include_colab_link": true
    },
    "kernelspec": {
      "name": "python3",
      "display_name": "Python 3"
    },
    "language_info": {
      "name": "python"
    }
  },
  "cells": [
    {
      "cell_type": "markdown",
      "metadata": {
        "id": "view-in-github",
        "colab_type": "text"
      },
      "source": [
        "<a href=\"https://colab.research.google.com/github/Vulter3653/Python_learning_1_50/blob/main/Baekjoon_2914_%EC%A0%80%EC%9E%91%EA%B6%8C.ipynb\" target=\"_parent\"><img src=\"https://colab.research.google.com/assets/colab-badge.svg\" alt=\"Open In Colab\"/></a>"
      ]
    },
    {
      "cell_type": "code",
      "execution_count": 23,
      "metadata": {
        "colab": {
          "base_uri": "https://localhost:8080/"
        },
        "id": "EU9Y8zhmN8Fk",
        "outputId": "140ecc93-5487-451b-f0ec-5731880391b2"
      },
      "outputs": [
        {
          "output_type": "stream",
          "name": "stdout",
          "text": [
            "10 10\n",
            "91\n"
          ]
        }
      ],
      "source": [
        "import math\n",
        "\n",
        "A,I = map(int,input().rstrip().split())\n",
        "\n",
        "print(math.ceil(A*(I-1))+1)"
      ]
    },
    {
      "cell_type": "code",
      "source": [
        "import math\n",
        "import sys\n",
        "\n",
        "A,I = map(int,sys.stdin.readline().rstrip().split())\n",
        "\n",
        "print(math.ceil(A*(I-1))+1)"
      ],
      "metadata": {
        "id": "z7O0dAeWQntG"
      },
      "execution_count": null,
      "outputs": []
    }
  ]
}