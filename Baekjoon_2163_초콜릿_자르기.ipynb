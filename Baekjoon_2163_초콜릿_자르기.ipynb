{
  "nbformat": 4,
  "nbformat_minor": 0,
  "metadata": {
    "colab": {
      "name": "Baekjoon_2163_초콜릿 자르기.ipynb",
      "provenance": [],
      "authorship_tag": "ABX9TyOWX4+k8DXqVyqZPwDont+v",
      "include_colab_link": true
    },
    "kernelspec": {
      "name": "python3",
      "display_name": "Python 3"
    },
    "language_info": {
      "name": "python"
    }
  },
  "cells": [
    {
      "cell_type": "markdown",
      "metadata": {
        "id": "view-in-github",
        "colab_type": "text"
      },
      "source": [
        "<a href=\"https://colab.research.google.com/github/Vulter3653/Python_learning_1_50/blob/main/Baekjoon_2163_%EC%B4%88%EC%BD%9C%EB%A6%BF_%EC%9E%90%EB%A5%B4%EA%B8%B0.ipynb\" target=\"_parent\"><img src=\"https://colab.research.google.com/assets/colab-badge.svg\" alt=\"Open In Colab\"/></a>"
      ]
    },
    {
      "cell_type": "code",
      "execution_count": 1,
      "metadata": {
        "colab": {
          "base_uri": "https://localhost:8080/"
        },
        "id": "KD8mhkg8n6h6",
        "outputId": "a6759c27-bf05-4a53-de17-d7b08dfdfdd1"
      },
      "outputs": [
        {
          "output_type": "stream",
          "name": "stdout",
          "text": [
            "2 2\n",
            "3\n"
          ]
        }
      ],
      "source": [
        "N,M = map(int,input().split())\n",
        "\n",
        "print((N*M)-1)"
      ]
    },
    {
      "cell_type": "code",
      "source": [
        "import sys\n",
        "N,M = map(int,sys.stdin.readline().split())\n",
        "\n",
        "print((N*M)-1)"
      ],
      "metadata": {
        "id": "floNCehPoabu"
      },
      "execution_count": null,
      "outputs": []
    }
  ]
}