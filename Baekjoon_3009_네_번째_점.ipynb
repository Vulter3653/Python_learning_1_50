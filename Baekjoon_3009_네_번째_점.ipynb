{
  "nbformat": 4,
  "nbformat_minor": 0,
  "metadata": {
    "colab": {
      "name": "Baekjoon_3009_네 번째 점.ipynb",
      "provenance": [],
      "authorship_tag": "ABX9TyO8R2Em8Ok9c0qIuvaZOEl/",
      "include_colab_link": true
    },
    "kernelspec": {
      "name": "python3",
      "display_name": "Python 3"
    },
    "language_info": {
      "name": "python"
    }
  },
  "cells": [
    {
      "cell_type": "markdown",
      "metadata": {
        "id": "view-in-github",
        "colab_type": "text"
      },
      "source": [
        "<a href=\"https://colab.research.google.com/github/Vulter3653/Python_learning_1_50/blob/main/Baekjoon_3009_%EB%84%A4_%EB%B2%88%EC%A7%B8_%EC%A0%90.ipynb\" target=\"_parent\"><img src=\"https://colab.research.google.com/assets/colab-badge.svg\" alt=\"Open In Colab\"/></a>"
      ]
    },
    {
      "cell_type": "code",
      "execution_count": 4,
      "metadata": {
        "id": "sQyFC-vSKR3m",
        "colab": {
          "base_uri": "https://localhost:8080/"
        },
        "outputId": "6421faeb-ae89-49d3-aca4-2925e1e954f8"
      },
      "outputs": [
        {
          "output_type": "stream",
          "name": "stdout",
          "text": [
            "30 20\n",
            "10 10\n",
            "10 20\n",
            "30 10\n"
          ]
        }
      ],
      "source": [
        "a = []\n",
        "b = []\n",
        "for _ in range(3):\n",
        "  A,B = map(int,input().rstrip().split())\n",
        "  a.append(A)\n",
        "  b.append(B)\n",
        "\n",
        "if a[0] == a[1]:\n",
        "  a = a[2]\n",
        "elif a[0] == a[2]:\n",
        "  a = a[1]\n",
        "else:\n",
        "  a = a[0]\n",
        "\n",
        "if b[0] == b[1]:\n",
        "  b = b[2]\n",
        "elif b[0] == b[2]:\n",
        "  b = b[1]\n",
        "else:\n",
        "  b = b[0]\n",
        "\n",
        "print(str(a)+\" \"+str(b))"
      ]
    }
  ]
}